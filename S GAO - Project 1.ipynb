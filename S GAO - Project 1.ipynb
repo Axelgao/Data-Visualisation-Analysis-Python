{
 "cells": [
  {
   "cell_type": "markdown",
   "metadata": {},
   "source": [
    "# Assignment: Project 1 \n",
    "# Report on individuals' responses to various surveys in rural NZ"
   ]
  },
  {
   "cell_type": "markdown",
   "metadata": {},
   "source": [
    "## Instruction"
   ]
  },
  {
   "cell_type": "markdown",
   "metadata": {},
   "source": [
    "### There are 65,000 anonymised records of individuals' responses to various surveys in rural NZ in this dataset, which is named RURAL_LS_SAMPLE.csv. And there are lots of data about rural lifestyle, individuals' attitudes and occupations. I will clean the dataset and analyse it from the perspective of a real estate developer to find if there are some market opportunities to develop real estate products (e.g. houses, townhouses and apartments) for their protential rural consumers."
   ]
  },
  {
   "cell_type": "markdown",
   "metadata": {
    "collapsed": true
   },
   "source": [
    "## 1. Data Cleaning"
   ]
  },
  {
   "cell_type": "markdown",
   "metadata": {},
   "source": [
    "### Software Environment"
   ]
  },
  {
   "cell_type": "code",
   "execution_count": 1,
   "metadata": {
    "collapsed": true
   },
   "outputs": [],
   "source": [
    "import matplotlib\n",
    "import pandas as pd\n",
    "import numpy as np\n",
    "import matplotlib.pyplot as plt"
   ]
  },
  {
   "cell_type": "code",
   "execution_count": 2,
   "metadata": {
    "collapsed": true
   },
   "outputs": [],
   "source": [
    "import seaborn as sns\n",
    "sns.set(style=\"ticks\")\n",
    "from pylab import rcParams\n",
    "\n",
    "rcParams['figure.dpi'] = 350\n",
    "rcParams['lines.linewidth'] = 5\n",
    "rcParams['axes.facecolor'] = 'white'\n",
    "rcParams['patch.edgecolor'] = 'white'\n",
    "rcParams['font.family'] = 'StixGeneral'\n",
    "rcParams['figure.figsize'] = 15, 10\n",
    "rcParams['font.size'] = 20"
   ]
  },
  {
   "cell_type": "code",
   "execution_count": 3,
   "metadata": {
    "collapsed": true
   },
   "outputs": [],
   "source": [
    "pd.set_option('html', True)\n",
    "pd.set_option('max_columns', 20)\n",
    "pd.set_option('max_rows', 20)"
   ]
  },
  {
   "cell_type": "code",
   "execution_count": 4,
   "metadata": {
    "collapsed": true
   },
   "outputs": [],
   "source": [
    "%matplotlib inline"
   ]
  },
  {
   "cell_type": "code",
   "execution_count": 5,
   "metadata": {
    "collapsed": false
   },
   "outputs": [],
   "source": [
    "matplotlib.style.use('ggplot')"
   ]
  },
  {
   "cell_type": "markdown",
   "metadata": {},
   "source": [
    "### Import RURAL_LS_SAMPLE.csv"
   ]
  },
  {
   "cell_type": "code",
   "execution_count": 6,
   "metadata": {
    "collapsed": false
   },
   "outputs": [
    {
     "name": "stdout",
     "output_type": "stream",
     "text": [
      "<class 'pandas.core.frame.DataFrame'>\n",
      "Int64Index: 65000 entries, 0 to 64999\n",
      "Columns: 187 entries, ID to OTHER_FARMER\n",
      "dtypes: float64(113), int64(1), object(73)\n",
      "memory usage: 75.1+ MB\n"
     ]
    },
    {
     "name": "stderr",
     "output_type": "stream",
     "text": [
      "C:\\Users\\Administrator\\Desktop\\WinPython-32bit-2.7.10.3\\python-2.7.10\\lib\\site-packages\\IPython\\core\\interactiveshell.py:2902: DtypeWarning: Columns (44) have mixed types. Specify dtype option on import or set low_memory=False.\n",
      "  interactivity=interactivity, compiler=compiler, result=result)\n"
     ]
    }
   ],
   "source": [
    "rls = pd.read_csv(\"RURAL_LS_SAMPLE.csv\")\n",
    "rls.info()"
   ]
  },
  {
   "cell_type": "code",
   "execution_count": 7,
   "metadata": {
    "collapsed": false
   },
   "outputs": [
    {
     "data": {
      "text/plain": [
       "Int64Index([    0,     1,     2,     3,     4,     5,     6,     7,     8,\n",
       "                9,\n",
       "            ...\n",
       "            64990, 64991, 64992, 64993, 64994, 64995, 64996, 64997, 64998,\n",
       "            64999],\n",
       "           dtype='int64', length=65000)"
      ]
     },
     "execution_count": 7,
     "metadata": {},
     "output_type": "execute_result"
    }
   ],
   "source": [
    "rls.index"
   ]
  },
  {
   "cell_type": "markdown",
   "metadata": {},
   "source": [
    "#### Drop a row when every field is a missing value."
   ]
  },
  {
   "cell_type": "code",
   "execution_count": 8,
   "metadata": {
    "collapsed": false
   },
   "outputs": [
    {
     "data": {
      "text/html": [
       "<div>\n",
       "<table border=\"1\" class=\"dataframe\">\n",
       "  <thead>\n",
       "    <tr style=\"text-align: right;\">\n",
       "      <th></th>\n",
       "      <th>ID</th>\n",
       "      <th>INT_M_PUB</th>\n",
       "      <th>INT_M_CINEMA</th>\n",
       "      <th>INT_M_THEATRE</th>\n",
       "      <th>INT_M_GYM</th>\n",
       "      <th>INT_M_ENTERTAIN</th>\n",
       "      <th>INT_M_EATOUT</th>\n",
       "      <th>INT_M_WINE</th>\n",
       "      <th>INT_M_CGAME</th>\n",
       "      <th>INT_M_MUSIC</th>\n",
       "      <th>...</th>\n",
       "      <th>DAIRY</th>\n",
       "      <th>HORTICULTURE</th>\n",
       "      <th>OTHER_LIVESTOCK</th>\n",
       "      <th>RETIRED</th>\n",
       "      <th>SHEEP</th>\n",
       "      <th>SMALL_LIFESTYLE_FARMER</th>\n",
       "      <th>TOURISM</th>\n",
       "      <th>OTHER_BUSINESS</th>\n",
       "      <th>OTHER_RESIDENTIAL</th>\n",
       "      <th>OTHER_FARMER</th>\n",
       "    </tr>\n",
       "  </thead>\n",
       "  <tbody>\n",
       "    <tr>\n",
       "      <th>0</th>\n",
       "      <td>1</td>\n",
       "      <td>NaN</td>\n",
       "      <td>1</td>\n",
       "      <td>1</td>\n",
       "      <td>NaN</td>\n",
       "      <td>NaN</td>\n",
       "      <td>NaN</td>\n",
       "      <td>NaN</td>\n",
       "      <td>NaN</td>\n",
       "      <td>1</td>\n",
       "      <td>...</td>\n",
       "      <td>N</td>\n",
       "      <td>N</td>\n",
       "      <td>N</td>\n",
       "      <td>N</td>\n",
       "      <td>N</td>\n",
       "      <td>N</td>\n",
       "      <td>N</td>\n",
       "      <td>N</td>\n",
       "      <td>Y</td>\n",
       "      <td>N</td>\n",
       "    </tr>\n",
       "    <tr>\n",
       "      <th>1</th>\n",
       "      <td>2</td>\n",
       "      <td>NaN</td>\n",
       "      <td>1</td>\n",
       "      <td>NaN</td>\n",
       "      <td>NaN</td>\n",
       "      <td>NaN</td>\n",
       "      <td>1</td>\n",
       "      <td>NaN</td>\n",
       "      <td>NaN</td>\n",
       "      <td>NaN</td>\n",
       "      <td>...</td>\n",
       "      <td>N</td>\n",
       "      <td>N</td>\n",
       "      <td>N</td>\n",
       "      <td>Y</td>\n",
       "      <td>N</td>\n",
       "      <td>N</td>\n",
       "      <td>N</td>\n",
       "      <td>N</td>\n",
       "      <td>N</td>\n",
       "      <td>N</td>\n",
       "    </tr>\n",
       "    <tr>\n",
       "      <th>2</th>\n",
       "      <td>3</td>\n",
       "      <td>NaN</td>\n",
       "      <td>1</td>\n",
       "      <td>1</td>\n",
       "      <td>NaN</td>\n",
       "      <td>1</td>\n",
       "      <td>1</td>\n",
       "      <td>NaN</td>\n",
       "      <td>NaN</td>\n",
       "      <td>NaN</td>\n",
       "      <td>...</td>\n",
       "      <td>N</td>\n",
       "      <td>N</td>\n",
       "      <td>N</td>\n",
       "      <td>N</td>\n",
       "      <td>N</td>\n",
       "      <td>N</td>\n",
       "      <td>N</td>\n",
       "      <td>N</td>\n",
       "      <td>Y</td>\n",
       "      <td>N</td>\n",
       "    </tr>\n",
       "    <tr>\n",
       "      <th>3</th>\n",
       "      <td>4</td>\n",
       "      <td>NaN</td>\n",
       "      <td>NaN</td>\n",
       "      <td>NaN</td>\n",
       "      <td>NaN</td>\n",
       "      <td>1</td>\n",
       "      <td>NaN</td>\n",
       "      <td>NaN</td>\n",
       "      <td>NaN</td>\n",
       "      <td>NaN</td>\n",
       "      <td>...</td>\n",
       "      <td>N</td>\n",
       "      <td>N</td>\n",
       "      <td>N</td>\n",
       "      <td>N</td>\n",
       "      <td>Y</td>\n",
       "      <td>N</td>\n",
       "      <td>N</td>\n",
       "      <td>N</td>\n",
       "      <td>N</td>\n",
       "      <td>N</td>\n",
       "    </tr>\n",
       "    <tr>\n",
       "      <th>4</th>\n",
       "      <td>5</td>\n",
       "      <td>NaN</td>\n",
       "      <td>NaN</td>\n",
       "      <td>NaN</td>\n",
       "      <td>NaN</td>\n",
       "      <td>NaN</td>\n",
       "      <td>NaN</td>\n",
       "      <td>NaN</td>\n",
       "      <td>NaN</td>\n",
       "      <td>1</td>\n",
       "      <td>...</td>\n",
       "      <td>N</td>\n",
       "      <td>N</td>\n",
       "      <td>N</td>\n",
       "      <td>N</td>\n",
       "      <td>N</td>\n",
       "      <td>N</td>\n",
       "      <td>N</td>\n",
       "      <td>N</td>\n",
       "      <td>N</td>\n",
       "      <td>N</td>\n",
       "    </tr>\n",
       "    <tr>\n",
       "      <th>5</th>\n",
       "      <td>6</td>\n",
       "      <td>1</td>\n",
       "      <td>NaN</td>\n",
       "      <td>1</td>\n",
       "      <td>1</td>\n",
       "      <td>1</td>\n",
       "      <td>1</td>\n",
       "      <td>1</td>\n",
       "      <td>1</td>\n",
       "      <td>1</td>\n",
       "      <td>...</td>\n",
       "      <td>Y</td>\n",
       "      <td>N</td>\n",
       "      <td>N</td>\n",
       "      <td>N</td>\n",
       "      <td>N</td>\n",
       "      <td>N</td>\n",
       "      <td>N</td>\n",
       "      <td>N</td>\n",
       "      <td>N</td>\n",
       "      <td>N</td>\n",
       "    </tr>\n",
       "    <tr>\n",
       "      <th>6</th>\n",
       "      <td>7</td>\n",
       "      <td>NaN</td>\n",
       "      <td>NaN</td>\n",
       "      <td>NaN</td>\n",
       "      <td>NaN</td>\n",
       "      <td>NaN</td>\n",
       "      <td>NaN</td>\n",
       "      <td>NaN</td>\n",
       "      <td>NaN</td>\n",
       "      <td>NaN</td>\n",
       "      <td>...</td>\n",
       "      <td>N</td>\n",
       "      <td>N</td>\n",
       "      <td>N</td>\n",
       "      <td>N</td>\n",
       "      <td>N</td>\n",
       "      <td>N</td>\n",
       "      <td>N</td>\n",
       "      <td>N</td>\n",
       "      <td>Y</td>\n",
       "      <td>N</td>\n",
       "    </tr>\n",
       "    <tr>\n",
       "      <th>7</th>\n",
       "      <td>8</td>\n",
       "      <td>NaN</td>\n",
       "      <td>NaN</td>\n",
       "      <td>1</td>\n",
       "      <td>NaN</td>\n",
       "      <td>1</td>\n",
       "      <td>NaN</td>\n",
       "      <td>NaN</td>\n",
       "      <td>NaN</td>\n",
       "      <td>1</td>\n",
       "      <td>...</td>\n",
       "      <td>N</td>\n",
       "      <td>N</td>\n",
       "      <td>N</td>\n",
       "      <td>N</td>\n",
       "      <td>N</td>\n",
       "      <td>Y</td>\n",
       "      <td>N</td>\n",
       "      <td>Y</td>\n",
       "      <td>N</td>\n",
       "      <td>N</td>\n",
       "    </tr>\n",
       "    <tr>\n",
       "      <th>8</th>\n",
       "      <td>9</td>\n",
       "      <td>NaN</td>\n",
       "      <td>NaN</td>\n",
       "      <td>NaN</td>\n",
       "      <td>NaN</td>\n",
       "      <td>NaN</td>\n",
       "      <td>1</td>\n",
       "      <td>NaN</td>\n",
       "      <td>1</td>\n",
       "      <td>1</td>\n",
       "      <td>...</td>\n",
       "      <td>N</td>\n",
       "      <td>N</td>\n",
       "      <td>N</td>\n",
       "      <td>N</td>\n",
       "      <td>N</td>\n",
       "      <td>N</td>\n",
       "      <td>N</td>\n",
       "      <td>N</td>\n",
       "      <td>Y</td>\n",
       "      <td>N</td>\n",
       "    </tr>\n",
       "    <tr>\n",
       "      <th>9</th>\n",
       "      <td>10</td>\n",
       "      <td>NaN</td>\n",
       "      <td>1</td>\n",
       "      <td>1</td>\n",
       "      <td>1</td>\n",
       "      <td>1</td>\n",
       "      <td>1</td>\n",
       "      <td>1</td>\n",
       "      <td>NaN</td>\n",
       "      <td>1</td>\n",
       "      <td>...</td>\n",
       "      <td>N</td>\n",
       "      <td>N</td>\n",
       "      <td>N</td>\n",
       "      <td>N</td>\n",
       "      <td>N</td>\n",
       "      <td>N</td>\n",
       "      <td>N</td>\n",
       "      <td>N</td>\n",
       "      <td>N</td>\n",
       "      <td>N</td>\n",
       "    </tr>\n",
       "    <tr>\n",
       "      <th>...</th>\n",
       "      <td>...</td>\n",
       "      <td>...</td>\n",
       "      <td>...</td>\n",
       "      <td>...</td>\n",
       "      <td>...</td>\n",
       "      <td>...</td>\n",
       "      <td>...</td>\n",
       "      <td>...</td>\n",
       "      <td>...</td>\n",
       "      <td>...</td>\n",
       "      <td>...</td>\n",
       "      <td>...</td>\n",
       "      <td>...</td>\n",
       "      <td>...</td>\n",
       "      <td>...</td>\n",
       "      <td>...</td>\n",
       "      <td>...</td>\n",
       "      <td>...</td>\n",
       "      <td>...</td>\n",
       "      <td>...</td>\n",
       "      <td>...</td>\n",
       "    </tr>\n",
       "    <tr>\n",
       "      <th>64990</th>\n",
       "      <td>64991</td>\n",
       "      <td>NaN</td>\n",
       "      <td>NaN</td>\n",
       "      <td>NaN</td>\n",
       "      <td>NaN</td>\n",
       "      <td>NaN</td>\n",
       "      <td>NaN</td>\n",
       "      <td>NaN</td>\n",
       "      <td>NaN</td>\n",
       "      <td>NaN</td>\n",
       "      <td>...</td>\n",
       "      <td>N</td>\n",
       "      <td>N</td>\n",
       "      <td>N</td>\n",
       "      <td>N</td>\n",
       "      <td>N</td>\n",
       "      <td>N</td>\n",
       "      <td>N</td>\n",
       "      <td>N</td>\n",
       "      <td>Y</td>\n",
       "      <td>N</td>\n",
       "    </tr>\n",
       "    <tr>\n",
       "      <th>64991</th>\n",
       "      <td>64992</td>\n",
       "      <td>NaN</td>\n",
       "      <td>NaN</td>\n",
       "      <td>NaN</td>\n",
       "      <td>NaN</td>\n",
       "      <td>NaN</td>\n",
       "      <td>NaN</td>\n",
       "      <td>NaN</td>\n",
       "      <td>NaN</td>\n",
       "      <td>1</td>\n",
       "      <td>...</td>\n",
       "      <td>Y</td>\n",
       "      <td>Y</td>\n",
       "      <td>N</td>\n",
       "      <td>N</td>\n",
       "      <td>Y</td>\n",
       "      <td>N</td>\n",
       "      <td>N</td>\n",
       "      <td>N</td>\n",
       "      <td>N</td>\n",
       "      <td>N</td>\n",
       "    </tr>\n",
       "    <tr>\n",
       "      <th>64992</th>\n",
       "      <td>64993</td>\n",
       "      <td>1</td>\n",
       "      <td>NaN</td>\n",
       "      <td>NaN</td>\n",
       "      <td>NaN</td>\n",
       "      <td>NaN</td>\n",
       "      <td>1</td>\n",
       "      <td>1</td>\n",
       "      <td>1</td>\n",
       "      <td>NaN</td>\n",
       "      <td>...</td>\n",
       "      <td>N</td>\n",
       "      <td>N</td>\n",
       "      <td>N</td>\n",
       "      <td>N</td>\n",
       "      <td>N</td>\n",
       "      <td>N</td>\n",
       "      <td>N</td>\n",
       "      <td>Y</td>\n",
       "      <td>N</td>\n",
       "      <td>N</td>\n",
       "    </tr>\n",
       "    <tr>\n",
       "      <th>64993</th>\n",
       "      <td>64994</td>\n",
       "      <td>1</td>\n",
       "      <td>1</td>\n",
       "      <td>1</td>\n",
       "      <td>NaN</td>\n",
       "      <td>1</td>\n",
       "      <td>1</td>\n",
       "      <td>1</td>\n",
       "      <td>NaN</td>\n",
       "      <td>1</td>\n",
       "      <td>...</td>\n",
       "      <td>N</td>\n",
       "      <td>N</td>\n",
       "      <td>N</td>\n",
       "      <td>N</td>\n",
       "      <td>N</td>\n",
       "      <td>Y</td>\n",
       "      <td>N</td>\n",
       "      <td>N</td>\n",
       "      <td>N</td>\n",
       "      <td>N</td>\n",
       "    </tr>\n",
       "    <tr>\n",
       "      <th>64994</th>\n",
       "      <td>64995</td>\n",
       "      <td>NaN</td>\n",
       "      <td>NaN</td>\n",
       "      <td>1</td>\n",
       "      <td>NaN</td>\n",
       "      <td>1</td>\n",
       "      <td>1</td>\n",
       "      <td>1</td>\n",
       "      <td>NaN</td>\n",
       "      <td>NaN</td>\n",
       "      <td>...</td>\n",
       "      <td>N</td>\n",
       "      <td>N</td>\n",
       "      <td>N</td>\n",
       "      <td>N</td>\n",
       "      <td>N</td>\n",
       "      <td>N</td>\n",
       "      <td>N</td>\n",
       "      <td>N</td>\n",
       "      <td>Y</td>\n",
       "      <td>N</td>\n",
       "    </tr>\n",
       "    <tr>\n",
       "      <th>64995</th>\n",
       "      <td>64996</td>\n",
       "      <td>NaN</td>\n",
       "      <td>1</td>\n",
       "      <td>1</td>\n",
       "      <td>NaN</td>\n",
       "      <td>1</td>\n",
       "      <td>1</td>\n",
       "      <td>1</td>\n",
       "      <td>NaN</td>\n",
       "      <td>1</td>\n",
       "      <td>...</td>\n",
       "      <td>N</td>\n",
       "      <td>N</td>\n",
       "      <td>N</td>\n",
       "      <td>N</td>\n",
       "      <td>N</td>\n",
       "      <td>N</td>\n",
       "      <td>N</td>\n",
       "      <td>N</td>\n",
       "      <td>Y</td>\n",
       "      <td>N</td>\n",
       "    </tr>\n",
       "    <tr>\n",
       "      <th>64996</th>\n",
       "      <td>64997</td>\n",
       "      <td>NaN</td>\n",
       "      <td>NaN</td>\n",
       "      <td>1</td>\n",
       "      <td>NaN</td>\n",
       "      <td>NaN</td>\n",
       "      <td>1</td>\n",
       "      <td>1</td>\n",
       "      <td>NaN</td>\n",
       "      <td>1</td>\n",
       "      <td>...</td>\n",
       "      <td>N</td>\n",
       "      <td>N</td>\n",
       "      <td>N</td>\n",
       "      <td>N</td>\n",
       "      <td>Y</td>\n",
       "      <td>N</td>\n",
       "      <td>N</td>\n",
       "      <td>N</td>\n",
       "      <td>N</td>\n",
       "      <td>N</td>\n",
       "    </tr>\n",
       "    <tr>\n",
       "      <th>64997</th>\n",
       "      <td>64998</td>\n",
       "      <td>NaN</td>\n",
       "      <td>1</td>\n",
       "      <td>1</td>\n",
       "      <td>NaN</td>\n",
       "      <td>1</td>\n",
       "      <td>1</td>\n",
       "      <td>1</td>\n",
       "      <td>NaN</td>\n",
       "      <td>1</td>\n",
       "      <td>...</td>\n",
       "      <td>N</td>\n",
       "      <td>N</td>\n",
       "      <td>N</td>\n",
       "      <td>Y</td>\n",
       "      <td>N</td>\n",
       "      <td>N</td>\n",
       "      <td>N</td>\n",
       "      <td>N</td>\n",
       "      <td>N</td>\n",
       "      <td>N</td>\n",
       "    </tr>\n",
       "    <tr>\n",
       "      <th>64998</th>\n",
       "      <td>64999</td>\n",
       "      <td>NaN</td>\n",
       "      <td>1</td>\n",
       "      <td>NaN</td>\n",
       "      <td>NaN</td>\n",
       "      <td>NaN</td>\n",
       "      <td>NaN</td>\n",
       "      <td>NaN</td>\n",
       "      <td>NaN</td>\n",
       "      <td>NaN</td>\n",
       "      <td>...</td>\n",
       "      <td>N</td>\n",
       "      <td>N</td>\n",
       "      <td>N</td>\n",
       "      <td>N</td>\n",
       "      <td>N</td>\n",
       "      <td>N</td>\n",
       "      <td>N</td>\n",
       "      <td>N</td>\n",
       "      <td>N</td>\n",
       "      <td>N</td>\n",
       "    </tr>\n",
       "    <tr>\n",
       "      <th>64999</th>\n",
       "      <td>65000</td>\n",
       "      <td>NaN</td>\n",
       "      <td>NaN</td>\n",
       "      <td>1</td>\n",
       "      <td>NaN</td>\n",
       "      <td>NaN</td>\n",
       "      <td>1</td>\n",
       "      <td>NaN</td>\n",
       "      <td>NaN</td>\n",
       "      <td>1</td>\n",
       "      <td>...</td>\n",
       "      <td>N</td>\n",
       "      <td>N</td>\n",
       "      <td>N</td>\n",
       "      <td>N</td>\n",
       "      <td>N</td>\n",
       "      <td>N</td>\n",
       "      <td>N</td>\n",
       "      <td>N</td>\n",
       "      <td>N</td>\n",
       "      <td>N</td>\n",
       "    </tr>\n",
       "  </tbody>\n",
       "</table>\n",
       "<p>65000 rows × 187 columns</p>\n",
       "</div>"
      ],
      "text/plain": [
       "          ID  INT_M_PUB  INT_M_CINEMA  INT_M_THEATRE  INT_M_GYM  \\\n",
       "0          1        NaN             1              1        NaN   \n",
       "1          2        NaN             1            NaN        NaN   \n",
       "2          3        NaN             1              1        NaN   \n",
       "3          4        NaN           NaN            NaN        NaN   \n",
       "4          5        NaN           NaN            NaN        NaN   \n",
       "5          6          1           NaN              1          1   \n",
       "6          7        NaN           NaN            NaN        NaN   \n",
       "7          8        NaN           NaN              1        NaN   \n",
       "8          9        NaN           NaN            NaN        NaN   \n",
       "9         10        NaN             1              1          1   \n",
       "...      ...        ...           ...            ...        ...   \n",
       "64990  64991        NaN           NaN            NaN        NaN   \n",
       "64991  64992        NaN           NaN            NaN        NaN   \n",
       "64992  64993          1           NaN            NaN        NaN   \n",
       "64993  64994          1             1              1        NaN   \n",
       "64994  64995        NaN           NaN              1        NaN   \n",
       "64995  64996        NaN             1              1        NaN   \n",
       "64996  64997        NaN           NaN              1        NaN   \n",
       "64997  64998        NaN             1              1        NaN   \n",
       "64998  64999        NaN             1            NaN        NaN   \n",
       "64999  65000        NaN           NaN              1        NaN   \n",
       "\n",
       "       INT_M_ENTERTAIN  INT_M_EATOUT  INT_M_WINE  INT_M_CGAME  INT_M_MUSIC  \\\n",
       "0                  NaN           NaN         NaN          NaN            1   \n",
       "1                  NaN             1         NaN          NaN          NaN   \n",
       "2                    1             1         NaN          NaN          NaN   \n",
       "3                    1           NaN         NaN          NaN          NaN   \n",
       "4                  NaN           NaN         NaN          NaN            1   \n",
       "5                    1             1           1            1            1   \n",
       "6                  NaN           NaN         NaN          NaN          NaN   \n",
       "7                    1           NaN         NaN          NaN            1   \n",
       "8                  NaN             1         NaN            1            1   \n",
       "9                    1             1           1          NaN            1   \n",
       "...                ...           ...         ...          ...          ...   \n",
       "64990              NaN           NaN         NaN          NaN          NaN   \n",
       "64991              NaN           NaN         NaN          NaN            1   \n",
       "64992              NaN             1           1            1          NaN   \n",
       "64993                1             1           1          NaN            1   \n",
       "64994                1             1           1          NaN          NaN   \n",
       "64995                1             1           1          NaN            1   \n",
       "64996              NaN             1           1          NaN            1   \n",
       "64997                1             1           1          NaN            1   \n",
       "64998              NaN           NaN         NaN          NaN          NaN   \n",
       "64999              NaN             1         NaN          NaN            1   \n",
       "\n",
       "           ...       DAIRY  HORTICULTURE  OTHER_LIVESTOCK  RETIRED  SHEEP  \\\n",
       "0          ...           N             N                N        N      N   \n",
       "1          ...           N             N                N        Y      N   \n",
       "2          ...           N             N                N        N      N   \n",
       "3          ...           N             N                N        N      Y   \n",
       "4          ...           N             N                N        N      N   \n",
       "5          ...           Y             N                N        N      N   \n",
       "6          ...           N             N                N        N      N   \n",
       "7          ...           N             N                N        N      N   \n",
       "8          ...           N             N                N        N      N   \n",
       "9          ...           N             N                N        N      N   \n",
       "...        ...         ...           ...              ...      ...    ...   \n",
       "64990      ...           N             N                N        N      N   \n",
       "64991      ...           Y             Y                N        N      Y   \n",
       "64992      ...           N             N                N        N      N   \n",
       "64993      ...           N             N                N        N      N   \n",
       "64994      ...           N             N                N        N      N   \n",
       "64995      ...           N             N                N        N      N   \n",
       "64996      ...           N             N                N        N      Y   \n",
       "64997      ...           N             N                N        Y      N   \n",
       "64998      ...           N             N                N        N      N   \n",
       "64999      ...           N             N                N        N      N   \n",
       "\n",
       "       SMALL_LIFESTYLE_FARMER  TOURISM  OTHER_BUSINESS  OTHER_RESIDENTIAL  \\\n",
       "0                           N        N               N                  Y   \n",
       "1                           N        N               N                  N   \n",
       "2                           N        N               N                  Y   \n",
       "3                           N        N               N                  N   \n",
       "4                           N        N               N                  N   \n",
       "5                           N        N               N                  N   \n",
       "6                           N        N               N                  Y   \n",
       "7                           Y        N               Y                  N   \n",
       "8                           N        N               N                  Y   \n",
       "9                           N        N               N                  N   \n",
       "...                       ...      ...             ...                ...   \n",
       "64990                       N        N               N                  Y   \n",
       "64991                       N        N               N                  N   \n",
       "64992                       N        N               Y                  N   \n",
       "64993                       Y        N               N                  N   \n",
       "64994                       N        N               N                  Y   \n",
       "64995                       N        N               N                  Y   \n",
       "64996                       N        N               N                  N   \n",
       "64997                       N        N               N                  N   \n",
       "64998                       N        N               N                  N   \n",
       "64999                       N        N               N                  N   \n",
       "\n",
       "       OTHER_FARMER  \n",
       "0                 N  \n",
       "1                 N  \n",
       "2                 N  \n",
       "3                 N  \n",
       "4                 N  \n",
       "5                 N  \n",
       "6                 N  \n",
       "7                 N  \n",
       "8                 N  \n",
       "9                 N  \n",
       "...             ...  \n",
       "64990             N  \n",
       "64991             N  \n",
       "64992             N  \n",
       "64993             N  \n",
       "64994             N  \n",
       "64995             N  \n",
       "64996             N  \n",
       "64997             N  \n",
       "64998             N  \n",
       "64999             N  \n",
       "\n",
       "[65000 rows x 187 columns]"
      ]
     },
     "execution_count": 8,
     "metadata": {},
     "output_type": "execute_result"
    }
   ],
   "source": [
    "rls.dropna(how='all')"
   ]
  },
  {
   "cell_type": "markdown",
   "metadata": {
    "collapsed": false
   },
   "source": [
    "#### No row is deleted. Then clean NaN."
   ]
  },
  {
   "cell_type": "code",
   "execution_count": 9,
   "metadata": {
    "collapsed": false
   },
   "outputs": [
    {
     "data": {
      "text/html": [
       "<div>\n",
       "<table border=\"1\" class=\"dataframe\">\n",
       "  <thead>\n",
       "    <tr style=\"text-align: right;\">\n",
       "      <th></th>\n",
       "      <th>ID</th>\n",
       "      <th>INT_M_PUB</th>\n",
       "      <th>INT_M_CINEMA</th>\n",
       "      <th>INT_M_THEATRE</th>\n",
       "      <th>INT_M_GYM</th>\n",
       "      <th>INT_M_ENTERTAIN</th>\n",
       "      <th>INT_M_EATOUT</th>\n",
       "      <th>INT_M_WINE</th>\n",
       "      <th>INT_M_CGAME</th>\n",
       "      <th>INT_M_MUSIC</th>\n",
       "      <th>...</th>\n",
       "      <th>DAIRY</th>\n",
       "      <th>HORTICULTURE</th>\n",
       "      <th>OTHER_LIVESTOCK</th>\n",
       "      <th>RETIRED</th>\n",
       "      <th>SHEEP</th>\n",
       "      <th>SMALL_LIFESTYLE_FARMER</th>\n",
       "      <th>TOURISM</th>\n",
       "      <th>OTHER_BUSINESS</th>\n",
       "      <th>OTHER_RESIDENTIAL</th>\n",
       "      <th>OTHER_FARMER</th>\n",
       "    </tr>\n",
       "  </thead>\n",
       "  <tbody>\n",
       "    <tr>\n",
       "      <th>0</th>\n",
       "      <td>1</td>\n",
       "      <td>0</td>\n",
       "      <td>1</td>\n",
       "      <td>1</td>\n",
       "      <td>0</td>\n",
       "      <td>0</td>\n",
       "      <td>0</td>\n",
       "      <td>0</td>\n",
       "      <td>0</td>\n",
       "      <td>1</td>\n",
       "      <td>...</td>\n",
       "      <td>N</td>\n",
       "      <td>N</td>\n",
       "      <td>N</td>\n",
       "      <td>N</td>\n",
       "      <td>N</td>\n",
       "      <td>N</td>\n",
       "      <td>N</td>\n",
       "      <td>N</td>\n",
       "      <td>Y</td>\n",
       "      <td>N</td>\n",
       "    </tr>\n",
       "    <tr>\n",
       "      <th>1</th>\n",
       "      <td>2</td>\n",
       "      <td>0</td>\n",
       "      <td>1</td>\n",
       "      <td>0</td>\n",
       "      <td>0</td>\n",
       "      <td>0</td>\n",
       "      <td>1</td>\n",
       "      <td>0</td>\n",
       "      <td>0</td>\n",
       "      <td>0</td>\n",
       "      <td>...</td>\n",
       "      <td>N</td>\n",
       "      <td>N</td>\n",
       "      <td>N</td>\n",
       "      <td>Y</td>\n",
       "      <td>N</td>\n",
       "      <td>N</td>\n",
       "      <td>N</td>\n",
       "      <td>N</td>\n",
       "      <td>N</td>\n",
       "      <td>N</td>\n",
       "    </tr>\n",
       "    <tr>\n",
       "      <th>2</th>\n",
       "      <td>3</td>\n",
       "      <td>0</td>\n",
       "      <td>1</td>\n",
       "      <td>1</td>\n",
       "      <td>0</td>\n",
       "      <td>1</td>\n",
       "      <td>1</td>\n",
       "      <td>0</td>\n",
       "      <td>0</td>\n",
       "      <td>0</td>\n",
       "      <td>...</td>\n",
       "      <td>N</td>\n",
       "      <td>N</td>\n",
       "      <td>N</td>\n",
       "      <td>N</td>\n",
       "      <td>N</td>\n",
       "      <td>N</td>\n",
       "      <td>N</td>\n",
       "      <td>N</td>\n",
       "      <td>Y</td>\n",
       "      <td>N</td>\n",
       "    </tr>\n",
       "    <tr>\n",
       "      <th>3</th>\n",
       "      <td>4</td>\n",
       "      <td>0</td>\n",
       "      <td>0</td>\n",
       "      <td>0</td>\n",
       "      <td>0</td>\n",
       "      <td>1</td>\n",
       "      <td>0</td>\n",
       "      <td>0</td>\n",
       "      <td>0</td>\n",
       "      <td>0</td>\n",
       "      <td>...</td>\n",
       "      <td>N</td>\n",
       "      <td>N</td>\n",
       "      <td>N</td>\n",
       "      <td>N</td>\n",
       "      <td>Y</td>\n",
       "      <td>N</td>\n",
       "      <td>N</td>\n",
       "      <td>N</td>\n",
       "      <td>N</td>\n",
       "      <td>N</td>\n",
       "    </tr>\n",
       "    <tr>\n",
       "      <th>4</th>\n",
       "      <td>5</td>\n",
       "      <td>0</td>\n",
       "      <td>0</td>\n",
       "      <td>0</td>\n",
       "      <td>0</td>\n",
       "      <td>0</td>\n",
       "      <td>0</td>\n",
       "      <td>0</td>\n",
       "      <td>0</td>\n",
       "      <td>1</td>\n",
       "      <td>...</td>\n",
       "      <td>N</td>\n",
       "      <td>N</td>\n",
       "      <td>N</td>\n",
       "      <td>N</td>\n",
       "      <td>N</td>\n",
       "      <td>N</td>\n",
       "      <td>N</td>\n",
       "      <td>N</td>\n",
       "      <td>N</td>\n",
       "      <td>N</td>\n",
       "    </tr>\n",
       "  </tbody>\n",
       "</table>\n",
       "<p>5 rows × 187 columns</p>\n",
       "</div>"
      ],
      "text/plain": [
       "   ID  INT_M_PUB  INT_M_CINEMA  INT_M_THEATRE  INT_M_GYM  INT_M_ENTERTAIN  \\\n",
       "0   1          0             1              1          0                0   \n",
       "1   2          0             1              0          0                0   \n",
       "2   3          0             1              1          0                1   \n",
       "3   4          0             0              0          0                1   \n",
       "4   5          0             0              0          0                0   \n",
       "\n",
       "   INT_M_EATOUT  INT_M_WINE  INT_M_CGAME  INT_M_MUSIC      ...       DAIRY  \\\n",
       "0             0           0            0            1      ...           N   \n",
       "1             1           0            0            0      ...           N   \n",
       "2             1           0            0            0      ...           N   \n",
       "3             0           0            0            0      ...           N   \n",
       "4             0           0            0            1      ...           N   \n",
       "\n",
       "   HORTICULTURE  OTHER_LIVESTOCK  RETIRED  SHEEP  SMALL_LIFESTYLE_FARMER  \\\n",
       "0             N                N        N      N                       N   \n",
       "1             N                N        Y      N                       N   \n",
       "2             N                N        N      N                       N   \n",
       "3             N                N        N      Y                       N   \n",
       "4             N                N        N      N                       N   \n",
       "\n",
       "   TOURISM  OTHER_BUSINESS  OTHER_RESIDENTIAL  OTHER_FARMER  \n",
       "0        N               N                  Y             N  \n",
       "1        N               N                  N             N  \n",
       "2        N               N                  Y             N  \n",
       "3        N               N                  N             N  \n",
       "4        N               N                  N             N  \n",
       "\n",
       "[5 rows x 187 columns]"
      ]
     },
     "execution_count": 9,
     "metadata": {},
     "output_type": "execute_result"
    }
   ],
   "source": [
    "rls = rls.fillna(0)\n",
    "rls.head()"
   ]
  },
  {
   "cell_type": "markdown",
   "metadata": {},
   "source": [
    "#### There are too many columns so I need to choose what I will use."
   ]
  },
  {
   "cell_type": "code",
   "execution_count": 10,
   "metadata": {
    "collapsed": false
   },
   "outputs": [
    {
     "data": {
      "text/plain": [
       "array(['ID', 'INT_M_PUB', 'INT_M_CINEMA', 'INT_M_THEATRE', 'INT_M_GYM',\n",
       "       'INT_M_ENTERTAIN', 'INT_M_EATOUT', 'INT_M_WINE', 'INT_M_CGAME',\n",
       "       'INT_M_MUSIC', 'INT_M_COOK', 'INT_M_READ', 'INT_M_GARDEN',\n",
       "       'INT_M_COMPET', 'INT_M_SEW', 'INT_M_CAR', 'INT_M_CLOTHESSHOP',\n",
       "       'OCCUPATION_MYSELF_MANAGER', 'OCC_P_MGR', 'OCC_M_PROF',\n",
       "       'OCC_P_PROF', 'OCC_M_SALES', 'OCC_P_SALES', 'OCC_M_ADMIN',\n",
       "       'OCC_P_ADMIN', 'OCC_M_COMM', 'OCC_P_COMM', 'OCC_M_TRADE',\n",
       "       'OCC_P_TRADE', 'OCC_M_SEMP', 'OCC_P_SEMP', 'OCC_M_LABOUR',\n",
       "       'OCC_P_LABOUR', 'OCC_M_MACH', 'OCC_P_MACH', 'OCC_M_HMD',\n",
       "       'OCC_P_HMD', 'OCC_M_RETIRE', 'OCC_P_RETIRE', 'OCC_M_STUD',\n",
       "       'OCC_P_STUD', 'OCC_M_UNEMP', 'OCC_P_UNEMP', 'OCC_SELFEMPLOYED_TXT',\n",
       "       'OCC_SEMP_TXT_OTH', 'ATT_Buy_NZ_productas_Strongly agree',\n",
       "       'ATT_Buy_NZ_productas_agree', 'ATT_Buy_NZ_productas_no opinion',\n",
       "       'ATT_NZPROD_Disagree', 'ATT_NZPROD_StronglyDisagree',\n",
       "       'ATT_ENVIRONMENTALLY_friendly_product_SA', 'ATT_ENVIRON_A',\n",
       "       'ATT_ENVIRON_NO', 'ATT_ENVIRON_D', 'ATT_ENVIRON_SD',\n",
       "       'ATT_QUALITY_SA', 'ATT_QUALITY_A', 'ATT_QUALITY_NO',\n",
       "       'ATT_QUALITY_D', 'ATT_QUALITY_SD', 'ATT_TECHIMP_SA',\n",
       "       'ATT_TECHIMP_A', 'ATT_TECHIMP_NO', 'ATT_TECHIMP_D',\n",
       "       'ATT_TECHIMP_SD', 'ATT_FINCTL_SA', 'ATT_FINCTL_A', 'ATT_FINCTL_NO',\n",
       "       'ATT_FINCTL_D', 'ATT_FINCTL_SD', 'ATT_WKBILLS_SA', 'ATT_WKBILLS_A',\n",
       "       'ATT_WKBILLS_NO', 'ATT_WKBILLS_D', 'ATT_WKBILLS_SD',\n",
       "       'ATT_FINSEC_SA', 'ATT_FINSEC_A', 'ATT_FINSEC_NO', 'ATT_FINSEC_D',\n",
       "       'ATT_FINSEC_SD', 'ATT_INVRISK_SA', 'ATT_INVRISK_A',\n",
       "       'ATT_INVRISK_NO', 'ATT_INVRISK_D', 'ATT_INVRISK_SD',\n",
       "       'ATT_HMIDEA_SA', 'ATT_HMIDEA_A', 'ATT_HMIDEA_NO', 'ATT_HMIDEA_D',\n",
       "       'ATT_HMIDEA_SD', 'ATT_SPEC_SA', 'ATT_SPEC_A', 'ATT_SPEC_NO',\n",
       "       'ATT_SPEC_D', 'ATT_SPEC_SD', 'ATT_LOWFAT_SA', 'ATT_LOWFAT_A',\n",
       "       'ATT_LOWFAT_NO', 'ATT_LOWFAT_D', 'ATT_LOWFAT_SD', 'ATT_HEALTHY_SA',\n",
       "       'ATT_HEALTHY_A', 'ATT_HEALTHY_NO', 'ATT_HEALTHY_D',\n",
       "       'ATT_HEALTHY_SD', 'ATT_FASHION_SA', 'ATT_FASHION_A',\n",
       "       'ATT_FASHION_NO', 'ATT_FASHION_D', 'ATT_FASHION_SD',\n",
       "       'ATT_VOTE ON LOCAL ISSUES_SA', 'ATT_VOTEELEC_A', 'ATT_VOTEELEC_NO',\n",
       "       'ATT_VOTEELEC_D', 'ATT_VOTEELEC_SD', 'CAR count',\n",
       "       'CAR MANufacture_Myself', 'CARMAN_Partner', 'CARPURChASE_M',\n",
       "       'CARPUR_P', 'CAR REPLACE_M', 'CARREP_P', 'HMOWN', 'HMMOVE', 'HMBLD',\n",
       "       'HMVALUE', 'HMBED', 'HMBATH', 'PEOPLE', 'CAT', 'DOG', 'HMINV',\n",
       "       'supermarket spend in a week', 'FLY_DOMESTIC', 'FLY_INTERNATIONAL',\n",
       "       'MARITAL', 'OCCUPATION_M', 'OCCUPATION_P', 'OCC2M', 'OCC2P',\n",
       "       'OCC_COMBINED', 'house INCOME', 'CUST_BUSINESS',\n",
       "       'CUST_RURAL_RESIDENT', 'CUST_RURAL_FARMER', 'CONTRACT_START_DATE',\n",
       "       'CONTRACT_END_DATE', 'MAILING_LIST_OPT_OUT_IND', 'GENDER_F_ONLY',\n",
       "       'GENDER_M_ONLY', 'GENDER_F_INCLUDED', 'GENDER_M_INCLUDED',\n",
       "       'GENDER_BOTH', 'GENDER_UNKNOWN', 'ANIMAL_CARE', 'ARTS_CRAFTS',\n",
       "       'BOOKS', 'CLOTHING', 'COMPUTERS_TECHNOLOGY',\n",
       "       'EDUCATION_BY_CORRESPONDENCE', 'FINANCIAL_SERVICES', 'FOOD_WINE',\n",
       "       'FURNISHING_HOMEWARE_RENOVATION', 'GARDENING', 'GENERAL_CATALOGUES',\n",
       "       'GOLF', 'HEALTH_FITNESS', 'HORSES', 'HUNTING_FISHING',\n",
       "       'INVESTMENT_OPPORTUNITIES', 'MUSIC', 'OTHER_SPORTS', 'TRAVEL',\n",
       "       'VEHICLES', 'AGRICULTURAL_SERVICES', 'BEEF', 'CROPPING_ARABLE',\n",
       "       'DAIRY', 'HORTICULTURE', 'OTHER_LIVESTOCK', 'RETIRED', 'SHEEP',\n",
       "       'SMALL_LIFESTYLE_FARMER', 'TOURISM', 'OTHER_BUSINESS',\n",
       "       'OTHER_RESIDENTIAL', 'OTHER_FARMER'], dtype=object)"
      ]
     },
     "execution_count": 10,
     "metadata": {},
     "output_type": "execute_result"
    }
   ],
   "source": [
    "rls.columns.unique()"
   ]
  },
  {
   "cell_type": "markdown",
   "metadata": {},
   "source": [
    "#### After filled 'NaN' with 0, the data in the 'interest' columns which are beginning with 'INT' is good enough for my analysis."
   ]
  },
  {
   "cell_type": "markdown",
   "metadata": {
    "collapsed": false
   },
   "source": [
    "#### The data in the 'occupation' columns beginning with 'OCC' is good too. In the analysis process I will need to check if there is a student in the family, so I add a new column 'STUD_IN_FAMILY'."
   ]
  },
  {
   "cell_type": "code",
   "execution_count": 11,
   "metadata": {
    "collapsed": false
   },
   "outputs": [
    {
     "data": {
      "text/plain": [
       "0        0\n",
       "1        0\n",
       "2        0\n",
       "3        0\n",
       "4        0\n",
       "5        0\n",
       "6        0\n",
       "7        1\n",
       "8        0\n",
       "9        0\n",
       "        ..\n",
       "64990    0\n",
       "64991    0\n",
       "64992    0\n",
       "64993    0\n",
       "64994    0\n",
       "64995    0\n",
       "64996    0\n",
       "64997    0\n",
       "64998    0\n",
       "64999    0\n",
       "Name: STUD_IN_FAMILY, dtype: object"
      ]
     },
     "execution_count": 11,
     "metadata": {},
     "output_type": "execute_result"
    }
   ],
   "source": [
    "rls['STUD_IN_FAMILY']=''\n",
    "for x in range(0,65000):\n",
    "    if rls.ix[x,'OCC_M_STUD'] == 0:\n",
    "        rls.ix[x,'STUD_IN_FAMILY'] = rls.ix[x,'OCC_P_STUD']\n",
    "    else:\n",
    "        rls.ix[x,'STUD_IN_FAMILY'] = rls.ix[x,'OCC_M_STUD']\n",
    "rls['STUD_IN_FAMILY']       "
   ]
  },
  {
   "cell_type": "markdown",
   "metadata": {},
   "source": [
    "#### In the 'attitudes' columns beginning with 'ATT', I find some useful data. Firstly, I will calculate the attitudes of 'Buy_NZ_productas', so I add a new column 'ATT_Buy_NZ_productas': SA=5, A=4, NO=3, D=2, SD=1, Unknow=0"
   ]
  },
  {
   "cell_type": "code",
   "execution_count": 12,
   "metadata": {
    "collapsed": false,
    "scrolled": true
   },
   "outputs": [
    {
     "data": {
      "text/plain": [
       "0        5\n",
       "1        4\n",
       "2        4\n",
       "3        5\n",
       "4        4\n",
       "5        4\n",
       "6        0\n",
       "7        4\n",
       "8        5\n",
       "9        3\n",
       "        ..\n",
       "64990    3\n",
       "64991    4\n",
       "64992    3\n",
       "64993    4\n",
       "64994    4\n",
       "64995    4\n",
       "64996    5\n",
       "64997    4\n",
       "64998    4\n",
       "64999    4\n",
       "Name: ATT_Buy_NZ_productas, dtype: object"
      ]
     },
     "execution_count": 12,
     "metadata": {},
     "output_type": "execute_result"
    }
   ],
   "source": [
    "rls['ATT_Buy_NZ_productas']=''\n",
    "for x in range(0,65000):\n",
    "    rls.ix[x,'ATT_Buy_NZ_productas']=rls.ix[x,'ATT_Buy_NZ_productas_Strongly agree']*5+rls.ix[x,'ATT_Buy_NZ_productas_agree']*4+rls.ix[x,'ATT_Buy_NZ_productas_no opinion']*3+rls.ix[x,'ATT_NZPROD_Disagree']*2+rls.ix[x,'ATT_NZPROD_StronglyDisagree']*1\n",
    "rls['ATT_Buy_NZ_productas']"
   ]
  },
  {
   "cell_type": "markdown",
   "metadata": {},
   "source": [
    "#### The data in the 'ATT' columns is very useful in the analysis process. But there are a lot of attitudes on 14 different things. Calculating the attitudes one by one like 'Buy_NZ_productas' above looks not clever, so I try to use Apply() to make it."
   ]
  },
  {
   "cell_type": "code",
   "execution_count": 13,
   "metadata": {
    "collapsed": false
   },
   "outputs": [],
   "source": [
    "attitudes_theother = rls.ix[:,'ATT_ENVIRONMENTALLY_friendly_product_SA':'ATT_VOTEELEC_SD']\n",
    "sa=[]\n",
    "_a=[]\n",
    "no=[]\n",
    "_d=[]\n",
    "sd=[]\n",
    "for x in attitudes_theother.columns:\n",
    "    if x.lower()[-2:]=='sa':\n",
    "        sa.append(x)\n",
    "    else:\n",
    "        if x.lower()[-2:]=='_a':\n",
    "            _a.append(x)\n",
    "        else:\n",
    "            if x.lower()[-2:]=='no':\n",
    "                no.append(x)\n",
    "            else:\n",
    "                if x.lower()[-2:]=='_d':\n",
    "                    _d.append(x)\n",
    "                else:\n",
    "                    if x.lower()[-2:]=='sd':\n",
    "                        sd.append(x)\n",
    "                    else:\n",
    "                        pass"
   ]
  },
  {
   "cell_type": "code",
   "execution_count": 14,
   "metadata": {
    "collapsed": false
   },
   "outputs": [],
   "source": [
    "attitudes_theother[sa]=attitudes_theother[sa].replace(1,5)\n",
    "attitudes_theother[_a]=attitudes_theother[_a].replace(1,4)\n",
    "attitudes_theother[no]=attitudes_theother[no].replace(1,3)\n",
    "attitudes_theother[_d]=attitudes_theother[_d].replace(1,2)\n",
    "attitudes_theother[sd]=attitudes_theother[sd].replace(1,1)"
   ]
  },
  {
   "cell_type": "code",
   "execution_count": 15,
   "metadata": {
    "collapsed": true
   },
   "outputs": [],
   "source": [
    "rls['ATT_ENVIRON']=attitudes_theother[ ['ATT_ENVIRONMENTALLY_friendly_product_SA', 'ATT_ENVIRON_A', 'ATT_ENVIRON_NO', 'ATT_ENVIRON_D', 'ATT_ENVIRON_SD'] ].apply(np.sum, axis=1)\n",
    "rls['ATT_FASHION']=attitudes_theother[ ['ATT_FASHION_SA', 'ATT_FASHION_A', 'ATT_FASHION_NO', 'ATT_FASHION_D', 'ATT_FASHION_SD'] ].apply(np.sum, axis=1)\n",
    "rls['ATT_FINCTL']=attitudes_theother[ ['ATT_FINCTL_SA', 'ATT_FINCTL_A', 'ATT_FINCTL_NO', 'ATT_FINCTL_D', 'ATT_FINCTL_SD'] ].apply(np.sum, axis=1)\n",
    "rls['ATT_FINSEC']=attitudes_theother[ ['ATT_FINSEC_SA', 'ATT_FINSEC_A', 'ATT_FINSEC_NO', 'ATT_FINSEC_D', 'ATT_FINSEC_SD'] ].apply(np.sum, axis=1)\n",
    "rls['ATT_HEALTHY']=attitudes_theother[ [ 'ATT_HEALTHY_SA', 'ATT_HEALTHY_A', 'ATT_HEALTHY_NO', 'ATT_HEALTHY_D', 'ATT_HEALTHY_SD'] ].apply(np.sum, axis=1)\n",
    "rls['ATT_HMIDEA']=attitudes_theother[ [ 'ATT_HMIDEA_SA', 'ATT_HMIDEA_A', 'ATT_HMIDEA_NO', 'ATT_HMIDEA_D', 'ATT_HMIDEA_SD'] ].apply(np.sum, axis=1)\n",
    "rls['ATT_INVRISK']=attitudes_theother[ ['ATT_INVRISK_SA', 'ATT_INVRISK_A', 'ATT_INVRISK_NO', 'ATT_INVRISK_D', 'ATT_INVRISK_SD'] ].apply(np.sum, axis=1)\n",
    "rls['ATT_LOWFAT']=attitudes_theother[ [ 'ATT_LOWFAT_SA', 'ATT_LOWFAT_A', 'ATT_LOWFAT_NO', 'ATT_LOWFAT_D', 'ATT_LOWFAT_SD'] ].apply(np.sum, axis=1)\n",
    "rls['ATT_QUALITY']=attitudes_theother[ ['ATT_QUALITY_SA', 'ATT_QUALITY_A', 'ATT_QUALITY_NO', 'ATT_QUALITY_D', 'ATT_QUALITY_SD'] ].apply(np.sum, axis=1)\n",
    "rls['ATT_SPEC']=attitudes_theother[ [ 'ATT_SPEC_SA', 'ATT_SPEC_A', 'ATT_SPEC_NO', 'ATT_SPEC_D', 'ATT_SPEC_SD'] ].apply(np.sum, axis=1)\n",
    "rls['ATT_TECHIMP']=attitudes_theother[ ['ATT_TECHIMP_SA', 'ATT_TECHIMP_A', 'ATT_TECHIMP_NO', 'ATT_TECHIMP_D', 'ATT_TECHIMP_SD'] ].apply(np.sum, axis=1)\n",
    "rls['ATT_VOTEELEC']=attitudes_theother[ [ 'ATT_VOTE ON LOCAL ISSUES_SA', 'ATT_VOTEELEC_A', 'ATT_VOTEELEC_NO', 'ATT_VOTEELEC_D', 'ATT_VOTEELEC_SD'] ].apply(np.sum, axis=1)\n",
    "rls['ATT_WKBILLS']=attitudes_theother[ ['ATT_WKBILLS_SA', 'ATT_WKBILLS_A', 'ATT_WKBILLS_NO', 'ATT_WKBILLS_D', 'ATT_WKBILLS_SD'] ].apply(np.sum, axis=1)"
   ]
  },
  {
   "cell_type": "code",
   "execution_count": 16,
   "metadata": {
    "collapsed": false
   },
   "outputs": [
    {
     "data": {
      "text/html": [
       "<div>\n",
       "<table border=\"1\" class=\"dataframe\">\n",
       "  <thead>\n",
       "    <tr style=\"text-align: right;\">\n",
       "      <th></th>\n",
       "      <th>0</th>\n",
       "      <th>1</th>\n",
       "      <th>2</th>\n",
       "      <th>3</th>\n",
       "      <th>4</th>\n",
       "      <th>5</th>\n",
       "      <th>6</th>\n",
       "      <th>7</th>\n",
       "      <th>8</th>\n",
       "      <th>9</th>\n",
       "      <th>...</th>\n",
       "      <th>64990</th>\n",
       "      <th>64991</th>\n",
       "      <th>64992</th>\n",
       "      <th>64993</th>\n",
       "      <th>64994</th>\n",
       "      <th>64995</th>\n",
       "      <th>64996</th>\n",
       "      <th>64997</th>\n",
       "      <th>64998</th>\n",
       "      <th>64999</th>\n",
       "    </tr>\n",
       "  </thead>\n",
       "  <tbody>\n",
       "    <tr>\n",
       "      <th>ATT_Buy_NZ_productas</th>\n",
       "      <td>5</td>\n",
       "      <td>4</td>\n",
       "      <td>4</td>\n",
       "      <td>5</td>\n",
       "      <td>4</td>\n",
       "      <td>4</td>\n",
       "      <td>0</td>\n",
       "      <td>4</td>\n",
       "      <td>5</td>\n",
       "      <td>3</td>\n",
       "      <td>...</td>\n",
       "      <td>3</td>\n",
       "      <td>4</td>\n",
       "      <td>3</td>\n",
       "      <td>4</td>\n",
       "      <td>4</td>\n",
       "      <td>4</td>\n",
       "      <td>5</td>\n",
       "      <td>4</td>\n",
       "      <td>4</td>\n",
       "      <td>4</td>\n",
       "    </tr>\n",
       "    <tr>\n",
       "      <th>ATT_ENVIRON</th>\n",
       "      <td>4</td>\n",
       "      <td>4</td>\n",
       "      <td>3</td>\n",
       "      <td>0</td>\n",
       "      <td>3</td>\n",
       "      <td>3</td>\n",
       "      <td>0</td>\n",
       "      <td>4</td>\n",
       "      <td>4</td>\n",
       "      <td>3</td>\n",
       "      <td>...</td>\n",
       "      <td>3</td>\n",
       "      <td>4</td>\n",
       "      <td>4</td>\n",
       "      <td>4</td>\n",
       "      <td>4</td>\n",
       "      <td>0</td>\n",
       "      <td>5</td>\n",
       "      <td>5</td>\n",
       "      <td>4</td>\n",
       "      <td>4</td>\n",
       "    </tr>\n",
       "    <tr>\n",
       "      <th>ATT_FASHION</th>\n",
       "      <td>3</td>\n",
       "      <td>3</td>\n",
       "      <td>3</td>\n",
       "      <td>0</td>\n",
       "      <td>3</td>\n",
       "      <td>3</td>\n",
       "      <td>0</td>\n",
       "      <td>1</td>\n",
       "      <td>0</td>\n",
       "      <td>3</td>\n",
       "      <td>...</td>\n",
       "      <td>3</td>\n",
       "      <td>2</td>\n",
       "      <td>1</td>\n",
       "      <td>4</td>\n",
       "      <td>1</td>\n",
       "      <td>3</td>\n",
       "      <td>0</td>\n",
       "      <td>3</td>\n",
       "      <td>3</td>\n",
       "      <td>3</td>\n",
       "    </tr>\n",
       "    <tr>\n",
       "      <th>ATT_FINCTL</th>\n",
       "      <td>5</td>\n",
       "      <td>2</td>\n",
       "      <td>4</td>\n",
       "      <td>0</td>\n",
       "      <td>4</td>\n",
       "      <td>3</td>\n",
       "      <td>0</td>\n",
       "      <td>4</td>\n",
       "      <td>4</td>\n",
       "      <td>5</td>\n",
       "      <td>...</td>\n",
       "      <td>2</td>\n",
       "      <td>4</td>\n",
       "      <td>3</td>\n",
       "      <td>4</td>\n",
       "      <td>4</td>\n",
       "      <td>5</td>\n",
       "      <td>4</td>\n",
       "      <td>3</td>\n",
       "      <td>4</td>\n",
       "      <td>4</td>\n",
       "    </tr>\n",
       "    <tr>\n",
       "      <th>ATT_FINSEC</th>\n",
       "      <td>5</td>\n",
       "      <td>2</td>\n",
       "      <td>4</td>\n",
       "      <td>0</td>\n",
       "      <td>5</td>\n",
       "      <td>2</td>\n",
       "      <td>0</td>\n",
       "      <td>4</td>\n",
       "      <td>2</td>\n",
       "      <td>5</td>\n",
       "      <td>...</td>\n",
       "      <td>2</td>\n",
       "      <td>2</td>\n",
       "      <td>3</td>\n",
       "      <td>4</td>\n",
       "      <td>4</td>\n",
       "      <td>5</td>\n",
       "      <td>4</td>\n",
       "      <td>3</td>\n",
       "      <td>4</td>\n",
       "      <td>3</td>\n",
       "    </tr>\n",
       "    <tr>\n",
       "      <th>ATT_HEALTHY</th>\n",
       "      <td>3</td>\n",
       "      <td>3</td>\n",
       "      <td>4</td>\n",
       "      <td>0</td>\n",
       "      <td>4</td>\n",
       "      <td>3</td>\n",
       "      <td>0</td>\n",
       "      <td>3</td>\n",
       "      <td>0</td>\n",
       "      <td>4</td>\n",
       "      <td>...</td>\n",
       "      <td>2</td>\n",
       "      <td>4</td>\n",
       "      <td>1</td>\n",
       "      <td>4</td>\n",
       "      <td>2</td>\n",
       "      <td>3</td>\n",
       "      <td>5</td>\n",
       "      <td>3</td>\n",
       "      <td>2</td>\n",
       "      <td>4</td>\n",
       "    </tr>\n",
       "    <tr>\n",
       "      <th>ATT_HMIDEA</th>\n",
       "      <td>3</td>\n",
       "      <td>3</td>\n",
       "      <td>3</td>\n",
       "      <td>0</td>\n",
       "      <td>4</td>\n",
       "      <td>3</td>\n",
       "      <td>0</td>\n",
       "      <td>1</td>\n",
       "      <td>0</td>\n",
       "      <td>3</td>\n",
       "      <td>...</td>\n",
       "      <td>3</td>\n",
       "      <td>2</td>\n",
       "      <td>3</td>\n",
       "      <td>4</td>\n",
       "      <td>2</td>\n",
       "      <td>4</td>\n",
       "      <td>4</td>\n",
       "      <td>3</td>\n",
       "      <td>3</td>\n",
       "      <td>3</td>\n",
       "    </tr>\n",
       "    <tr>\n",
       "      <th>ATT_INVRISK</th>\n",
       "      <td>2</td>\n",
       "      <td>4</td>\n",
       "      <td>4</td>\n",
       "      <td>0</td>\n",
       "      <td>5</td>\n",
       "      <td>3</td>\n",
       "      <td>0</td>\n",
       "      <td>2</td>\n",
       "      <td>1</td>\n",
       "      <td>3</td>\n",
       "      <td>...</td>\n",
       "      <td>3</td>\n",
       "      <td>2</td>\n",
       "      <td>3</td>\n",
       "      <td>2</td>\n",
       "      <td>1</td>\n",
       "      <td>3</td>\n",
       "      <td>0</td>\n",
       "      <td>2</td>\n",
       "      <td>3</td>\n",
       "      <td>2</td>\n",
       "    </tr>\n",
       "    <tr>\n",
       "      <th>ATT_LOWFAT</th>\n",
       "      <td>3</td>\n",
       "      <td>4</td>\n",
       "      <td>4</td>\n",
       "      <td>0</td>\n",
       "      <td>3</td>\n",
       "      <td>3</td>\n",
       "      <td>0</td>\n",
       "      <td>3</td>\n",
       "      <td>0</td>\n",
       "      <td>4</td>\n",
       "      <td>...</td>\n",
       "      <td>2</td>\n",
       "      <td>5</td>\n",
       "      <td>3</td>\n",
       "      <td>4</td>\n",
       "      <td>4</td>\n",
       "      <td>4</td>\n",
       "      <td>5</td>\n",
       "      <td>3</td>\n",
       "      <td>4</td>\n",
       "      <td>4</td>\n",
       "    </tr>\n",
       "    <tr>\n",
       "      <th>ATT_QUALITY</th>\n",
       "      <td>5</td>\n",
       "      <td>4</td>\n",
       "      <td>4</td>\n",
       "      <td>5</td>\n",
       "      <td>3</td>\n",
       "      <td>5</td>\n",
       "      <td>0</td>\n",
       "      <td>2</td>\n",
       "      <td>5</td>\n",
       "      <td>4</td>\n",
       "      <td>...</td>\n",
       "      <td>2</td>\n",
       "      <td>4</td>\n",
       "      <td>4</td>\n",
       "      <td>4</td>\n",
       "      <td>4</td>\n",
       "      <td>5</td>\n",
       "      <td>5</td>\n",
       "      <td>4</td>\n",
       "      <td>2</td>\n",
       "      <td>4</td>\n",
       "    </tr>\n",
       "    <tr>\n",
       "      <th>ATT_SPEC</th>\n",
       "      <td>4</td>\n",
       "      <td>2</td>\n",
       "      <td>4</td>\n",
       "      <td>0</td>\n",
       "      <td>4</td>\n",
       "      <td>5</td>\n",
       "      <td>0</td>\n",
       "      <td>4</td>\n",
       "      <td>5</td>\n",
       "      <td>4</td>\n",
       "      <td>...</td>\n",
       "      <td>5</td>\n",
       "      <td>5</td>\n",
       "      <td>4</td>\n",
       "      <td>2</td>\n",
       "      <td>2</td>\n",
       "      <td>4</td>\n",
       "      <td>5</td>\n",
       "      <td>4</td>\n",
       "      <td>4</td>\n",
       "      <td>4</td>\n",
       "    </tr>\n",
       "    <tr>\n",
       "      <th>ATT_TECHIMP</th>\n",
       "      <td>2</td>\n",
       "      <td>2</td>\n",
       "      <td>3</td>\n",
       "      <td>0</td>\n",
       "      <td>4</td>\n",
       "      <td>3</td>\n",
       "      <td>0</td>\n",
       "      <td>1</td>\n",
       "      <td>3</td>\n",
       "      <td>3</td>\n",
       "      <td>...</td>\n",
       "      <td>2</td>\n",
       "      <td>0</td>\n",
       "      <td>3</td>\n",
       "      <td>2</td>\n",
       "      <td>4</td>\n",
       "      <td>4</td>\n",
       "      <td>2</td>\n",
       "      <td>3</td>\n",
       "      <td>4</td>\n",
       "      <td>3</td>\n",
       "    </tr>\n",
       "    <tr>\n",
       "      <th>ATT_VOTEELEC</th>\n",
       "      <td>4</td>\n",
       "      <td>4</td>\n",
       "      <td>4</td>\n",
       "      <td>5</td>\n",
       "      <td>4</td>\n",
       "      <td>2</td>\n",
       "      <td>0</td>\n",
       "      <td>4</td>\n",
       "      <td>4</td>\n",
       "      <td>3</td>\n",
       "      <td>...</td>\n",
       "      <td>2</td>\n",
       "      <td>4</td>\n",
       "      <td>3</td>\n",
       "      <td>5</td>\n",
       "      <td>0</td>\n",
       "      <td>5</td>\n",
       "      <td>5</td>\n",
       "      <td>4</td>\n",
       "      <td>4</td>\n",
       "      <td>4</td>\n",
       "    </tr>\n",
       "    <tr>\n",
       "      <th>ATT_WKBILLS</th>\n",
       "      <td>2</td>\n",
       "      <td>2</td>\n",
       "      <td>3</td>\n",
       "      <td>0</td>\n",
       "      <td>5</td>\n",
       "      <td>5</td>\n",
       "      <td>0</td>\n",
       "      <td>2</td>\n",
       "      <td>1</td>\n",
       "      <td>3</td>\n",
       "      <td>...</td>\n",
       "      <td>3</td>\n",
       "      <td>2</td>\n",
       "      <td>4</td>\n",
       "      <td>2</td>\n",
       "      <td>2</td>\n",
       "      <td>3</td>\n",
       "      <td>0</td>\n",
       "      <td>3</td>\n",
       "      <td>2</td>\n",
       "      <td>4</td>\n",
       "    </tr>\n",
       "  </tbody>\n",
       "</table>\n",
       "<p>14 rows × 65000 columns</p>\n",
       "</div>"
      ],
      "text/plain": [
       "                     0     1     2     3     4     5     6     7     8      \\\n",
       "ATT_Buy_NZ_productas     5     4     4     5     4     4     0     4     5   \n",
       "ATT_ENVIRON              4     4     3     0     3     3     0     4     4   \n",
       "ATT_FASHION              3     3     3     0     3     3     0     1     0   \n",
       "ATT_FINCTL               5     2     4     0     4     3     0     4     4   \n",
       "ATT_FINSEC               5     2     4     0     5     2     0     4     2   \n",
       "ATT_HEALTHY              3     3     4     0     4     3     0     3     0   \n",
       "ATT_HMIDEA               3     3     3     0     4     3     0     1     0   \n",
       "ATT_INVRISK              2     4     4     0     5     3     0     2     1   \n",
       "ATT_LOWFAT               3     4     4     0     3     3     0     3     0   \n",
       "ATT_QUALITY              5     4     4     5     3     5     0     2     5   \n",
       "ATT_SPEC                 4     2     4     0     4     5     0     4     5   \n",
       "ATT_TECHIMP              2     2     3     0     4     3     0     1     3   \n",
       "ATT_VOTEELEC             4     4     4     5     4     2     0     4     4   \n",
       "ATT_WKBILLS              2     2     3     0     5     5     0     2     1   \n",
       "\n",
       "                     9      ...  64990 64991 64992 64993 64994 64995 64996  \\\n",
       "ATT_Buy_NZ_productas     3  ...      3     4     3     4     4     4     5   \n",
       "ATT_ENVIRON              3  ...      3     4     4     4     4     0     5   \n",
       "ATT_FASHION              3  ...      3     2     1     4     1     3     0   \n",
       "ATT_FINCTL               5  ...      2     4     3     4     4     5     4   \n",
       "ATT_FINSEC               5  ...      2     2     3     4     4     5     4   \n",
       "ATT_HEALTHY              4  ...      2     4     1     4     2     3     5   \n",
       "ATT_HMIDEA               3  ...      3     2     3     4     2     4     4   \n",
       "ATT_INVRISK              3  ...      3     2     3     2     1     3     0   \n",
       "ATT_LOWFAT               4  ...      2     5     3     4     4     4     5   \n",
       "ATT_QUALITY              4  ...      2     4     4     4     4     5     5   \n",
       "ATT_SPEC                 4  ...      5     5     4     2     2     4     5   \n",
       "ATT_TECHIMP              3  ...      2     0     3     2     4     4     2   \n",
       "ATT_VOTEELEC             3  ...      2     4     3     5     0     5     5   \n",
       "ATT_WKBILLS              3  ...      3     2     4     2     2     3     0   \n",
       "\n",
       "                     64997 64998 64999  \n",
       "ATT_Buy_NZ_productas     4     4     4  \n",
       "ATT_ENVIRON              5     4     4  \n",
       "ATT_FASHION              3     3     3  \n",
       "ATT_FINCTL               3     4     4  \n",
       "ATT_FINSEC               3     4     3  \n",
       "ATT_HEALTHY              3     2     4  \n",
       "ATT_HMIDEA               3     3     3  \n",
       "ATT_INVRISK              2     3     2  \n",
       "ATT_LOWFAT               3     4     4  \n",
       "ATT_QUALITY              4     2     4  \n",
       "ATT_SPEC                 4     4     4  \n",
       "ATT_TECHIMP              3     4     3  \n",
       "ATT_VOTEELEC             4     4     4  \n",
       "ATT_WKBILLS              3     2     4  \n",
       "\n",
       "[14 rows x 65000 columns]"
      ]
     },
     "execution_count": 16,
     "metadata": {},
     "output_type": "execute_result"
    }
   ],
   "source": [
    "rls.ix[:,'ATT_Buy_NZ_productas':'ATT_WKBILLS'].T"
   ]
  },
  {
   "cell_type": "markdown",
   "metadata": {},
   "source": [
    "#### For the 'ATT' scores above: SA=5, A=4, NO=3, D=2, SD=1, Unknow=0"
   ]
  },
  {
   "cell_type": "markdown",
   "metadata": {},
   "source": [
    "#### In the rest columns, the 'supermarket spend in a week' data is also useful."
   ]
  },
  {
   "cell_type": "code",
   "execution_count": 17,
   "metadata": {
    "collapsed": false
   },
   "outputs": [
    {
     "data": {
      "text/plain": [
       "array(['c. $200 to $300', 'd. $300 to $400', 'b. $100 to $200',\n",
       "       'g. No Answer', 'a. Up to $100', 'e. $400 to $500', 'f. $500 Plus'], dtype=object)"
      ]
     },
     "execution_count": 17,
     "metadata": {},
     "output_type": "execute_result"
    }
   ],
   "source": [
    "rls['supermarket spend in a week'].unique()"
   ]
  },
  {
   "cell_type": "code",
   "execution_count": 18,
   "metadata": {
    "collapsed": false
   },
   "outputs": [],
   "source": [
    "def clean_up_supermarket_spend(x):\n",
    "    x = x.replace(x[:3], '')\n",
    "    x = x.replace('$', '')\n",
    "    if x == 'No Answer':\n",
    "        x = np.NaN\n",
    "    return x"
   ]
  },
  {
   "cell_type": "code",
   "execution_count": 19,
   "metadata": {
    "collapsed": false
   },
   "outputs": [
    {
     "data": {
      "text/plain": [
       "array(['200 to 300', '300 to 400', '100 to 200', nan, 'Up to 100',\n",
       "       '400 to 500', '500 Plus'], dtype=object)"
      ]
     },
     "execution_count": 19,
     "metadata": {},
     "output_type": "execute_result"
    }
   ],
   "source": [
    "rls['supermarket spend in a week'] = rls[['supermarket spend in a week']].applymap(clean_up_supermarket_spend)\n",
    "rls['supermarket spend in a week'].unique()"
   ]
  },
  {
   "cell_type": "code",
   "execution_count": 20,
   "metadata": {
    "collapsed": false
   },
   "outputs": [],
   "source": [
    "rls['supermarket spend in a week']=rls['supermarket spend in a week'].fillna(0)"
   ]
  },
  {
   "cell_type": "code",
   "execution_count": 21,
   "metadata": {
    "collapsed": false
   },
   "outputs": [
    {
     "data": {
      "text/plain": [
       "array(['200 to 300', '300 to 400', '100 to 200', 0, 'Up to 100',\n",
       "       '400 to 500', '500 Plus'], dtype=object)"
      ]
     },
     "execution_count": 21,
     "metadata": {},
     "output_type": "execute_result"
    }
   ],
   "source": [
    "rls['supermarket spend in a week'].unique()"
   ]
  },
  {
   "cell_type": "markdown",
   "metadata": {
    "collapsed": false
   },
   "source": [
    "#### I will use the figures of Contract Start Date,  so I have to make sure all the strings in 'CONTRACT_START_DATE' are converted into datetime datatype."
   ]
  },
  {
   "cell_type": "code",
   "execution_count": 22,
   "metadata": {
    "collapsed": false
   },
   "outputs": [],
   "source": [
    "import datetime\n",
    "rls['CONTRACT_START_DATE'] = pd.to_datetime(rls['CONTRACT_START_DATE'], format='%Y-%m-%d %H:%M:%S')"
   ]
  },
  {
   "cell_type": "markdown",
   "metadata": {},
   "source": [
    "#### If we make the Date column the index, some manipulation in the analysis process can be performed more powerful."
   ]
  },
  {
   "cell_type": "code",
   "execution_count": 23,
   "metadata": {
    "collapsed": false
   },
   "outputs": [
    {
     "data": {
      "text/html": [
       "<div>\n",
       "<table border=\"1\" class=\"dataframe\">\n",
       "  <thead>\n",
       "    <tr style=\"text-align: right;\">\n",
       "      <th></th>\n",
       "      <th>ID</th>\n",
       "      <th>INT_M_PUB</th>\n",
       "      <th>INT_M_CINEMA</th>\n",
       "      <th>INT_M_THEATRE</th>\n",
       "      <th>INT_M_GYM</th>\n",
       "      <th>INT_M_ENTERTAIN</th>\n",
       "      <th>INT_M_EATOUT</th>\n",
       "      <th>INT_M_WINE</th>\n",
       "      <th>INT_M_CGAME</th>\n",
       "      <th>INT_M_MUSIC</th>\n",
       "      <th>...</th>\n",
       "      <th>ATT_FINSEC</th>\n",
       "      <th>ATT_HEALTHY</th>\n",
       "      <th>ATT_HMIDEA</th>\n",
       "      <th>ATT_INVRISK</th>\n",
       "      <th>ATT_LOWFAT</th>\n",
       "      <th>ATT_QUALITY</th>\n",
       "      <th>ATT_SPEC</th>\n",
       "      <th>ATT_TECHIMP</th>\n",
       "      <th>ATT_VOTEELEC</th>\n",
       "      <th>ATT_WKBILLS</th>\n",
       "    </tr>\n",
       "    <tr>\n",
       "      <th>CONTRACT_START_DATE</th>\n",
       "      <th></th>\n",
       "      <th></th>\n",
       "      <th></th>\n",
       "      <th></th>\n",
       "      <th></th>\n",
       "      <th></th>\n",
       "      <th></th>\n",
       "      <th></th>\n",
       "      <th></th>\n",
       "      <th></th>\n",
       "      <th></th>\n",
       "      <th></th>\n",
       "      <th></th>\n",
       "      <th></th>\n",
       "      <th></th>\n",
       "      <th></th>\n",
       "      <th></th>\n",
       "      <th></th>\n",
       "      <th></th>\n",
       "      <th></th>\n",
       "      <th></th>\n",
       "    </tr>\n",
       "  </thead>\n",
       "  <tbody>\n",
       "    <tr>\n",
       "      <th>2014-04-08 00:00:00</th>\n",
       "      <td>1</td>\n",
       "      <td>0</td>\n",
       "      <td>1</td>\n",
       "      <td>1</td>\n",
       "      <td>0</td>\n",
       "      <td>0</td>\n",
       "      <td>0</td>\n",
       "      <td>0</td>\n",
       "      <td>0</td>\n",
       "      <td>1</td>\n",
       "      <td>...</td>\n",
       "      <td>5</td>\n",
       "      <td>3</td>\n",
       "      <td>3</td>\n",
       "      <td>2</td>\n",
       "      <td>3</td>\n",
       "      <td>5</td>\n",
       "      <td>4</td>\n",
       "      <td>2</td>\n",
       "      <td>4</td>\n",
       "      <td>2</td>\n",
       "    </tr>\n",
       "    <tr>\n",
       "      <th>1992-07-11 00:00:00</th>\n",
       "      <td>2</td>\n",
       "      <td>0</td>\n",
       "      <td>1</td>\n",
       "      <td>0</td>\n",
       "      <td>0</td>\n",
       "      <td>0</td>\n",
       "      <td>1</td>\n",
       "      <td>0</td>\n",
       "      <td>0</td>\n",
       "      <td>0</td>\n",
       "      <td>...</td>\n",
       "      <td>2</td>\n",
       "      <td>3</td>\n",
       "      <td>3</td>\n",
       "      <td>4</td>\n",
       "      <td>4</td>\n",
       "      <td>4</td>\n",
       "      <td>2</td>\n",
       "      <td>2</td>\n",
       "      <td>4</td>\n",
       "      <td>2</td>\n",
       "    </tr>\n",
       "    <tr>\n",
       "      <th>2012-02-01 00:00:00</th>\n",
       "      <td>3</td>\n",
       "      <td>0</td>\n",
       "      <td>1</td>\n",
       "      <td>1</td>\n",
       "      <td>0</td>\n",
       "      <td>1</td>\n",
       "      <td>1</td>\n",
       "      <td>0</td>\n",
       "      <td>0</td>\n",
       "      <td>0</td>\n",
       "      <td>...</td>\n",
       "      <td>4</td>\n",
       "      <td>4</td>\n",
       "      <td>3</td>\n",
       "      <td>4</td>\n",
       "      <td>4</td>\n",
       "      <td>4</td>\n",
       "      <td>4</td>\n",
       "      <td>3</td>\n",
       "      <td>4</td>\n",
       "      <td>3</td>\n",
       "    </tr>\n",
       "    <tr>\n",
       "      <th>2005-11-14 09:43:10</th>\n",
       "      <td>4</td>\n",
       "      <td>0</td>\n",
       "      <td>0</td>\n",
       "      <td>0</td>\n",
       "      <td>0</td>\n",
       "      <td>1</td>\n",
       "      <td>0</td>\n",
       "      <td>0</td>\n",
       "      <td>0</td>\n",
       "      <td>0</td>\n",
       "      <td>...</td>\n",
       "      <td>0</td>\n",
       "      <td>0</td>\n",
       "      <td>0</td>\n",
       "      <td>0</td>\n",
       "      <td>0</td>\n",
       "      <td>5</td>\n",
       "      <td>0</td>\n",
       "      <td>0</td>\n",
       "      <td>5</td>\n",
       "      <td>0</td>\n",
       "    </tr>\n",
       "    <tr>\n",
       "      <th>1998-02-27 00:00:00</th>\n",
       "      <td>5</td>\n",
       "      <td>0</td>\n",
       "      <td>0</td>\n",
       "      <td>0</td>\n",
       "      <td>0</td>\n",
       "      <td>0</td>\n",
       "      <td>0</td>\n",
       "      <td>0</td>\n",
       "      <td>0</td>\n",
       "      <td>1</td>\n",
       "      <td>...</td>\n",
       "      <td>5</td>\n",
       "      <td>4</td>\n",
       "      <td>4</td>\n",
       "      <td>5</td>\n",
       "      <td>3</td>\n",
       "      <td>3</td>\n",
       "      <td>4</td>\n",
       "      <td>4</td>\n",
       "      <td>4</td>\n",
       "      <td>5</td>\n",
       "    </tr>\n",
       "  </tbody>\n",
       "</table>\n",
       "<p>5 rows × 201 columns</p>\n",
       "</div>"
      ],
      "text/plain": [
       "                     ID  INT_M_PUB  INT_M_CINEMA  INT_M_THEATRE  INT_M_GYM  \\\n",
       "CONTRACT_START_DATE                                                          \n",
       "2014-04-08 00:00:00   1          0             1              1          0   \n",
       "1992-07-11 00:00:00   2          0             1              0          0   \n",
       "2012-02-01 00:00:00   3          0             1              1          0   \n",
       "2005-11-14 09:43:10   4          0             0              0          0   \n",
       "1998-02-27 00:00:00   5          0             0              0          0   \n",
       "\n",
       "                     INT_M_ENTERTAIN  INT_M_EATOUT  INT_M_WINE  INT_M_CGAME  \\\n",
       "CONTRACT_START_DATE                                                           \n",
       "2014-04-08 00:00:00                0             0           0            0   \n",
       "1992-07-11 00:00:00                0             1           0            0   \n",
       "2012-02-01 00:00:00                1             1           0            0   \n",
       "2005-11-14 09:43:10                1             0           0            0   \n",
       "1998-02-27 00:00:00                0             0           0            0   \n",
       "\n",
       "                     INT_M_MUSIC     ...       ATT_FINSEC  ATT_HEALTHY  \\\n",
       "CONTRACT_START_DATE                  ...                                 \n",
       "2014-04-08 00:00:00            1     ...                5            3   \n",
       "1992-07-11 00:00:00            0     ...                2            3   \n",
       "2012-02-01 00:00:00            0     ...                4            4   \n",
       "2005-11-14 09:43:10            0     ...                0            0   \n",
       "1998-02-27 00:00:00            1     ...                5            4   \n",
       "\n",
       "                     ATT_HMIDEA  ATT_INVRISK  ATT_LOWFAT  ATT_QUALITY  \\\n",
       "CONTRACT_START_DATE                                                     \n",
       "2014-04-08 00:00:00           3            2           3            5   \n",
       "1992-07-11 00:00:00           3            4           4            4   \n",
       "2012-02-01 00:00:00           3            4           4            4   \n",
       "2005-11-14 09:43:10           0            0           0            5   \n",
       "1998-02-27 00:00:00           4            5           3            3   \n",
       "\n",
       "                     ATT_SPEC  ATT_TECHIMP  ATT_VOTEELEC  ATT_WKBILLS  \n",
       "CONTRACT_START_DATE                                                    \n",
       "2014-04-08 00:00:00         4            2             4            2  \n",
       "1992-07-11 00:00:00         2            2             4            2  \n",
       "2012-02-01 00:00:00         4            3             4            3  \n",
       "2005-11-14 09:43:10         0            0             5            0  \n",
       "1998-02-27 00:00:00         4            4             4            5  \n",
       "\n",
       "[5 rows x 201 columns]"
      ]
     },
     "execution_count": 23,
     "metadata": {},
     "output_type": "execute_result"
    }
   ],
   "source": [
    "rls_date = rls.set_index(['CONTRACT_START_DATE'])\n",
    "rls_date.head()"
   ]
  },
  {
   "cell_type": "code",
   "execution_count": 24,
   "metadata": {
    "collapsed": false
   },
   "outputs": [
    {
     "data": {
      "text/html": [
       "<div>\n",
       "<table border=\"1\" class=\"dataframe\">\n",
       "  <thead>\n",
       "    <tr style=\"text-align: right;\">\n",
       "      <th></th>\n",
       "      <th>ID</th>\n",
       "      <th>INT_M_PUB</th>\n",
       "      <th>INT_M_CINEMA</th>\n",
       "      <th>INT_M_THEATRE</th>\n",
       "      <th>INT_M_GYM</th>\n",
       "      <th>INT_M_ENTERTAIN</th>\n",
       "      <th>INT_M_EATOUT</th>\n",
       "      <th>INT_M_WINE</th>\n",
       "      <th>INT_M_CGAME</th>\n",
       "      <th>INT_M_MUSIC</th>\n",
       "      <th>...</th>\n",
       "      <th>ATT_FINSEC</th>\n",
       "      <th>ATT_HEALTHY</th>\n",
       "      <th>ATT_HMIDEA</th>\n",
       "      <th>ATT_INVRISK</th>\n",
       "      <th>ATT_LOWFAT</th>\n",
       "      <th>ATT_QUALITY</th>\n",
       "      <th>ATT_SPEC</th>\n",
       "      <th>ATT_TECHIMP</th>\n",
       "      <th>ATT_VOTEELEC</th>\n",
       "      <th>ATT_WKBILLS</th>\n",
       "    </tr>\n",
       "    <tr>\n",
       "      <th>CONTRACT_START_DATE</th>\n",
       "      <th></th>\n",
       "      <th></th>\n",
       "      <th></th>\n",
       "      <th></th>\n",
       "      <th></th>\n",
       "      <th></th>\n",
       "      <th></th>\n",
       "      <th></th>\n",
       "      <th></th>\n",
       "      <th></th>\n",
       "      <th></th>\n",
       "      <th></th>\n",
       "      <th></th>\n",
       "      <th></th>\n",
       "      <th></th>\n",
       "      <th></th>\n",
       "      <th></th>\n",
       "      <th></th>\n",
       "      <th></th>\n",
       "      <th></th>\n",
       "      <th></th>\n",
       "    </tr>\n",
       "  </thead>\n",
       "  <tbody>\n",
       "    <tr>\n",
       "      <th>1955-03-08</th>\n",
       "      <td>3712</td>\n",
       "      <td>1</td>\n",
       "      <td>1</td>\n",
       "      <td>0</td>\n",
       "      <td>0</td>\n",
       "      <td>1</td>\n",
       "      <td>1</td>\n",
       "      <td>1</td>\n",
       "      <td>0</td>\n",
       "      <td>1</td>\n",
       "      <td>...</td>\n",
       "      <td>4</td>\n",
       "      <td>3</td>\n",
       "      <td>4</td>\n",
       "      <td>2</td>\n",
       "      <td>4</td>\n",
       "      <td>2</td>\n",
       "      <td>5</td>\n",
       "      <td>2</td>\n",
       "      <td>4</td>\n",
       "      <td>3</td>\n",
       "    </tr>\n",
       "    <tr>\n",
       "      <th>1969-11-24</th>\n",
       "      <td>16431</td>\n",
       "      <td>0</td>\n",
       "      <td>0</td>\n",
       "      <td>0</td>\n",
       "      <td>1</td>\n",
       "      <td>0</td>\n",
       "      <td>1</td>\n",
       "      <td>1</td>\n",
       "      <td>0</td>\n",
       "      <td>0</td>\n",
       "      <td>...</td>\n",
       "      <td>5</td>\n",
       "      <td>5</td>\n",
       "      <td>3</td>\n",
       "      <td>1</td>\n",
       "      <td>3</td>\n",
       "      <td>4</td>\n",
       "      <td>5</td>\n",
       "      <td>3</td>\n",
       "      <td>5</td>\n",
       "      <td>1</td>\n",
       "    </tr>\n",
       "    <tr>\n",
       "      <th>1979-09-23</th>\n",
       "      <td>40429</td>\n",
       "      <td>1</td>\n",
       "      <td>1</td>\n",
       "      <td>1</td>\n",
       "      <td>1</td>\n",
       "      <td>1</td>\n",
       "      <td>1</td>\n",
       "      <td>1</td>\n",
       "      <td>0</td>\n",
       "      <td>1</td>\n",
       "      <td>...</td>\n",
       "      <td>4</td>\n",
       "      <td>4</td>\n",
       "      <td>4</td>\n",
       "      <td>2</td>\n",
       "      <td>2</td>\n",
       "      <td>4</td>\n",
       "      <td>4</td>\n",
       "      <td>2</td>\n",
       "      <td>4</td>\n",
       "      <td>1</td>\n",
       "    </tr>\n",
       "    <tr>\n",
       "      <th>1982-06-06</th>\n",
       "      <td>33254</td>\n",
       "      <td>0</td>\n",
       "      <td>0</td>\n",
       "      <td>1</td>\n",
       "      <td>0</td>\n",
       "      <td>1</td>\n",
       "      <td>1</td>\n",
       "      <td>1</td>\n",
       "      <td>0</td>\n",
       "      <td>1</td>\n",
       "      <td>...</td>\n",
       "      <td>4</td>\n",
       "      <td>5</td>\n",
       "      <td>4</td>\n",
       "      <td>2</td>\n",
       "      <td>4</td>\n",
       "      <td>4</td>\n",
       "      <td>5</td>\n",
       "      <td>3</td>\n",
       "      <td>5</td>\n",
       "      <td>4</td>\n",
       "    </tr>\n",
       "    <tr>\n",
       "      <th>1983-07-27</th>\n",
       "      <td>62193</td>\n",
       "      <td>0</td>\n",
       "      <td>1</td>\n",
       "      <td>0</td>\n",
       "      <td>0</td>\n",
       "      <td>0</td>\n",
       "      <td>0</td>\n",
       "      <td>0</td>\n",
       "      <td>0</td>\n",
       "      <td>1</td>\n",
       "      <td>...</td>\n",
       "      <td>5</td>\n",
       "      <td>4</td>\n",
       "      <td>4</td>\n",
       "      <td>4</td>\n",
       "      <td>4</td>\n",
       "      <td>3</td>\n",
       "      <td>4</td>\n",
       "      <td>3</td>\n",
       "      <td>4</td>\n",
       "      <td>2</td>\n",
       "    </tr>\n",
       "  </tbody>\n",
       "</table>\n",
       "<p>5 rows × 201 columns</p>\n",
       "</div>"
      ],
      "text/plain": [
       "                        ID  INT_M_PUB  INT_M_CINEMA  INT_M_THEATRE  INT_M_GYM  \\\n",
       "CONTRACT_START_DATE                                                             \n",
       "1955-03-08            3712          1             1              0          0   \n",
       "1969-11-24           16431          0             0              0          1   \n",
       "1979-09-23           40429          1             1              1          1   \n",
       "1982-06-06           33254          0             0              1          0   \n",
       "1983-07-27           62193          0             1              0          0   \n",
       "\n",
       "                     INT_M_ENTERTAIN  INT_M_EATOUT  INT_M_WINE  INT_M_CGAME  \\\n",
       "CONTRACT_START_DATE                                                           \n",
       "1955-03-08                         1             1           1            0   \n",
       "1969-11-24                         0             1           1            0   \n",
       "1979-09-23                         1             1           1            0   \n",
       "1982-06-06                         1             1           1            0   \n",
       "1983-07-27                         0             0           0            0   \n",
       "\n",
       "                     INT_M_MUSIC     ...       ATT_FINSEC  ATT_HEALTHY  \\\n",
       "CONTRACT_START_DATE                  ...                                 \n",
       "1955-03-08                     1     ...                4            3   \n",
       "1969-11-24                     0     ...                5            5   \n",
       "1979-09-23                     1     ...                4            4   \n",
       "1982-06-06                     1     ...                4            5   \n",
       "1983-07-27                     1     ...                5            4   \n",
       "\n",
       "                     ATT_HMIDEA  ATT_INVRISK  ATT_LOWFAT  ATT_QUALITY  \\\n",
       "CONTRACT_START_DATE                                                     \n",
       "1955-03-08                    4            2           4            2   \n",
       "1969-11-24                    3            1           3            4   \n",
       "1979-09-23                    4            2           2            4   \n",
       "1982-06-06                    4            2           4            4   \n",
       "1983-07-27                    4            4           4            3   \n",
       "\n",
       "                     ATT_SPEC  ATT_TECHIMP  ATT_VOTEELEC  ATT_WKBILLS  \n",
       "CONTRACT_START_DATE                                                    \n",
       "1955-03-08                  5            2             4            3  \n",
       "1969-11-24                  5            3             5            1  \n",
       "1979-09-23                  4            2             4            1  \n",
       "1982-06-06                  5            3             5            4  \n",
       "1983-07-27                  4            3             4            2  \n",
       "\n",
       "[5 rows x 201 columns]"
      ]
     },
     "execution_count": 24,
     "metadata": {},
     "output_type": "execute_result"
    }
   ],
   "source": [
    "rls_date.sort_index(ascending=True, inplace=True)\n",
    "rls_date.head()"
   ]
  },
  {
   "cell_type": "markdown",
   "metadata": {},
   "source": [
    "#### I also want to use the figures of Contract End Date, so I check if there is any useful information in 'CONTRACT_END_DATE'."
   ]
  },
  {
   "cell_type": "code",
   "execution_count": 25,
   "metadata": {
    "collapsed": false
   },
   "outputs": [
    {
     "data": {
      "text/plain": [
       "array([ 0.])"
      ]
     },
     "execution_count": 25,
     "metadata": {},
     "output_type": "execute_result"
    }
   ],
   "source": [
    "rls['CONTRACT_END_DATE'].unique()"
   ]
  },
  {
   "cell_type": "markdown",
   "metadata": {},
   "source": [
    "#### So 'CONTRACT_END_DATE' column is useless for my analysis."
   ]
  },
  {
   "cell_type": "markdown",
   "metadata": {
    "collapsed": true
   },
   "source": [
    "## 2. Data Analysis"
   ]
  },
  {
   "cell_type": "code",
   "execution_count": 26,
   "metadata": {
    "collapsed": true
   },
   "outputs": [],
   "source": [
    "rcParams['figure.figsize'] = 15, 10\n",
    "rcParams['font.size'] = 20\n",
    "rcParams['axes.facecolor'] = 'white'"
   ]
  },
  {
   "cell_type": "markdown",
   "metadata": {
    "collapsed": true
   },
   "source": [
    "### INTEREST Analysis"
   ]
  },
  {
   "cell_type": "markdown",
   "metadata": {
    "collapsed": true
   },
   "source": [
    "#### Real estate product positioning is the key core in the process of project development. From the data in 'INT' columns, we can analyse the protential consumers' interests in rural NZ. We need to find what they like and what they don't care about."
   ]
  },
  {
   "cell_type": "code",
   "execution_count": 27,
   "metadata": {
    "collapsed": false
   },
   "outputs": [
    {
     "name": "stderr",
     "output_type": "stream",
     "text": [
      "C:\\Users\\Administrator\\Desktop\\WinPython-32bit-2.7.10.3\\python-2.7.10\\lib\\site-packages\\ipykernel\\__main__.py:2: FutureWarning: order is deprecated, use sort_values(...)\n",
      "  from ipykernel import kernelapp as app\n"
     ]
    },
    {
     "data": {
      "text/plain": [
       "<matplotlib.text.Text at 0x177182f0>"
      ]
     },
     "execution_count": 27,
     "metadata": {},
     "output_type": "execute_result"
    },
    {
     "data": {
      "image/png": "[encoded data removed]",
      "text/plain": [
       "<matplotlib.figure.Figure at 0x184a3c50>"
      ]
     },
     "metadata": {},
     "output_type": "display_data"
    }
   ],
   "source": [
    "interests = rls.ix[:,'INT_M_PUB':'INT_M_CLOTHESSHOP']\n",
    "interests.mean().order(ascending=False).plot(kind='bar')\n",
    "plt.title(\"Interest Average Score\", alpha=0.5)"
   ]
  },
  {
   "cell_type": "markdown",
   "metadata": {
    "collapsed": false
   },
   "source": [
    "#### From the bar chart above, it's clear that over 50% rural respondents like MUSIC, EATOUT, READ, COOK, CINEMA and ENTERTAIN, which should be easily enjoyed in the real estate products as much as possible. For example, peaceful area is good for enjoying music and reading, and big kitchen can support the people who like cooking. \n",
    "#### And most of interviewees don't care about CAR, GYM and CGAME. That means the real estate developer don't have to build the gym or CGAME room in the rural property. It can save them loads of money, and they can use the money to the entertainment room."
   ]
  },
  {
   "cell_type": "markdown",
   "metadata": {
    "collapsed": false
   },
   "source": [
    "### OCCUPATION Analysis"
   ]
  },
  {
   "cell_type": "markdown",
   "metadata": {
    "collapsed": false
   },
   "source": [
    "#### Occupation is one of the most inportant buying behavior factors. We need to know how many respondents work in each certain occupation."
   ]
  },
  {
   "cell_type": "code",
   "execution_count": 28,
   "metadata": {
    "collapsed": false
   },
   "outputs": [
    {
     "name": "stderr",
     "output_type": "stream",
     "text": [
      "C:\\Users\\Administrator\\Desktop\\WinPython-32bit-2.7.10.3\\python-2.7.10\\lib\\site-packages\\ipykernel\\__main__.py:2: FutureWarning: order is deprecated, use sort_values(...)\n",
      "  from ipykernel import kernelapp as app\n"
     ]
    },
    {
     "data": {
      "text/plain": [
       "<matplotlib.text.Text at 0x179f1eb0>"
      ]
     },
     "execution_count": 28,
     "metadata": {},
     "output_type": "execute_result"
    },
    {
     "data": {
      "image/png": "[encoded data removed]",
      "text/plain": [
       "<matplotlib.figure.Figure at 0x184f08d0>"
      ]
     },
     "metadata": {},
     "output_type": "display_data"
    }
   ],
   "source": [
    "occupations = rls.ix[:, 'OCCUPATION_MYSELF_MANAGER':'OCC_SEMP_TXT_OTH',]\n",
    "occupations.sum().order(ascending=True).plot(kind='bar')\n",
    "plt.title(\"Occupation\", alpha=0.5)"
   ]
  },
  {
   "cell_type": "markdown",
   "metadata": {},
   "source": [
    "#### As we can see from the bar chart above, the most two respondents' occupation are PROF and RETIRE, and the most partner occupation is PROF. We can eaily understand the retired people like to live in the rural area and they are good protential costomers for peaceful houses or apartments.\n",
    "#### Because students usually can't earn much money when they are studying,  their families' revenue will be reduced to a lower level and may be not good protential consumers. So we will need to check the proportion of these people living in the family with at least one student."
   ]
  },
  {
   "cell_type": "code",
   "execution_count": 29,
   "metadata": {
    "collapsed": false
   },
   "outputs": [
    {
     "data": {
      "text/plain": [
       "0.050892307692307695"
      ]
     },
     "execution_count": 29,
     "metadata": {},
     "output_type": "execute_result"
    }
   ],
   "source": [
    "rls['STUD_IN_FAMILY'].sum()/65000"
   ]
  },
  {
   "cell_type": "markdown",
   "metadata": {},
   "source": [
    "#### So there are only about 5.09% people who live in rural areas are students or have a student partner."
   ]
  },
  {
   "cell_type": "code",
   "execution_count": 30,
   "metadata": {
    "collapsed": false
   },
   "outputs": [
    {
     "data": {
      "text/plain": [
       "<seaborn.axisgrid.FacetGrid at 0x1716cc30>"
      ]
     },
     "execution_count": 30,
     "metadata": {},
     "output_type": "execute_result"
    },
    {
     "data": {
      "image/png": "[encoded data removed]",
      "text/plain": [
       "<matplotlib.figure.Figure at 0x1716c9f0>"
      ]
     },
     "metadata": {},
     "output_type": "display_data"
    }
   ],
   "source": [
    "g = sns.FacetGrid(rls, col='STUD_IN_FAMILY', size=6)\n",
    "g.map(plt.hist, 'ID')"
   ]
  },
  {
   "cell_type": "markdown",
   "metadata": {},
   "source": [
    "### ATTITUDES Analysis"
   ]
  },
  {
   "cell_type": "markdown",
   "metadata": {
    "collapsed": true
   },
   "source": [
    "#### There are a lot of attitudes on 14 different things: SA=5, A=4, NO=3, D=2, SD=1, Unknow=0"
   ]
  },
  {
   "cell_type": "code",
   "execution_count": 31,
   "metadata": {
    "collapsed": false
   },
   "outputs": [],
   "source": [
    "attitudes = rls.ix[:,'ATT_Buy_NZ_productas':'ATT_WKBILLS']"
   ]
  },
  {
   "cell_type": "code",
   "execution_count": 32,
   "metadata": {
    "collapsed": false
   },
   "outputs": [
    {
     "data": {
      "text/plain": [
       "<matplotlib.text.Text at 0x4a388c50>"
      ]
     },
     "execution_count": 32,
     "metadata": {},
     "output_type": "execute_result"
    },
    {
     "data": {
      "image/png": "[encoded data removed]",
      "text/plain": [
       "<matplotlib.figure.Figure at 0x1869d670>"
      ]
     },
     "metadata": {},
     "output_type": "display_data"
    }
   ],
   "source": [
    "attitudes.mean().plot(kind='bar')\n",
    "plt.title(\"Attitudes Average Score\", alpha=0.5)"
   ]
  },
  {
   "cell_type": "code",
   "execution_count": 33,
   "metadata": {
    "collapsed": false
   },
   "outputs": [
    {
     "data": {
      "image/png": "[encoded data removed]",
      "text/plain": [
       "<matplotlib.figure.Figure at 0x186cad10>"
      ]
     },
     "metadata": {},
     "output_type": "display_data"
    }
   ],
   "source": [
    "_ = attitudes.hist(bins=6, figsize=(15, 15))"
   ]
  },
  {
   "cell_type": "markdown",
   "metadata": {
    "collapsed": true
   },
   "source": [
    "#### In all these 14 things, the attitudes on investment risk is the most important for real estate investment. Now let's look at the relative frequencies of ATT_INVRISK data values."
   ]
  },
  {
   "cell_type": "code",
   "execution_count": 34,
   "metadata": {
    "collapsed": false
   },
   "outputs": [
    {
     "data": {
      "text/plain": [
       "count    65000.000000\n",
       "mean         2.368954\n",
       "std          1.233751\n",
       "min          0.000000\n",
       "25%          2.000000\n",
       "50%          2.000000\n",
       "75%          3.000000\n",
       "max          5.000000\n",
       "Name: ATT_INVRISK, dtype: float64"
      ]
     },
     "execution_count": 34,
     "metadata": {},
     "output_type": "execute_result"
    }
   ],
   "source": [
    "att_invrisk = rls.ix[:,'ATT_INVRISK']\n",
    "att_invrisk.describe()"
   ]
  },
  {
   "cell_type": "code",
   "execution_count": 35,
   "metadata": {
    "collapsed": false
   },
   "outputs": [
    {
     "data": {
      "text/plain": [
       "<matplotlib.axes._subplots.AxesSubplot at 0x45deb510>"
      ]
     },
     "execution_count": 35,
     "metadata": {},
     "output_type": "execute_result"
    },
    {
     "data": {
      "image/png": "[encoded data removed]",
      "text/plain": [
       "<matplotlib.figure.Figure at 0x451363d0>"
      ]
     },
     "metadata": {},
     "output_type": "display_data"
    }
   ],
   "source": [
    "att_invrisk.hist(bins=6, normed=True, alpha=0.4, color='grey')\n",
    "att_invrisk.plot(kind='kde', title='Att Invrisk', label='KDE pandas')\n",
    "sns.kdeplot(att_invrisk, bw=1, color='black', lw=1.0, label='KDE seaborn')"
   ]
  },
  {
   "cell_type": "markdown",
   "metadata": {
    "collapsed": false
   },
   "source": [
    "#### 'Disagree' is more than the others, which means that usually the interviewees don't like risk in investment. So the real estate products which want to be the investment for these respondents should make them feel worthy and lower risky. "
   ]
  },
  {
   "cell_type": "markdown",
   "metadata": {
    "collapsed": true
   },
   "source": [
    "#### The eye is much better at judging distances than areas. In order to make it clearly, we need to sum up the contributions from all bins in that region by CDF."
   ]
  },
  {
   "cell_type": "code",
   "execution_count": 36,
   "metadata": {
    "collapsed": false
   },
   "outputs": [
    {
     "data": {
      "text/plain": [
       "<matplotlib.axes._subplots.AxesSubplot at 0x44d1b2f0>"
      ]
     },
     "execution_count": 36,
     "metadata": {},
     "output_type": "execute_result"
    },
    {
     "data": {
      "image/png": "[encoded data removed]",
      "text/plain": [
       "<matplotlib.figure.Figure at 0x18504070>"
      ]
     },
     "metadata": {},
     "output_type": "display_data"
    }
   ],
   "source": [
    "sns.kdeplot(att_invrisk, cumulative=True, label='CDF')"
   ]
  },
  {
   "cell_type": "markdown",
   "metadata": {
    "collapsed": true
   },
   "source": [
    "#### Also we can show distribution of the other attitudes by box plots:"
   ]
  },
  {
   "cell_type": "code",
   "execution_count": 37,
   "metadata": {
    "collapsed": false
   },
   "outputs": [
    {
     "data": {
      "text/plain": [
       "<matplotlib.text.Text at 0x43379bd0>"
      ]
     },
     "execution_count": 37,
     "metadata": {},
     "output_type": "execute_result"
    },
    {
     "data": {
      "image/png": "[encoded data removed]",
      "text/plain": [
       "<matplotlib.figure.Figure at 0x45755410>"
      ]
     },
     "metadata": {},
     "output_type": "display_data"
    }
   ],
   "source": [
    "sns.boxplot(data=attitudes, color=\"c\",orient='h')\n",
    "plt.title('Distribution of Attitudes', alpha=0.75)"
   ]
  },
  {
   "cell_type": "markdown",
   "metadata": {
    "collapsed": true
   },
   "source": [
    "### 'RETIRED' Analysis "
   ]
  },
  {
   "cell_type": "markdown",
   "metadata": {
    "collapsed": true
   },
   "source": [
    "#### We all know if the people retired, they can't get income from the job. But maybe they can earn money from their saving or investment. Can they spend money as much as the people who isn't retired? We can check it by 'supermarket spend in a week'."
   ]
  },
  {
   "cell_type": "code",
   "execution_count": 38,
   "metadata": {
    "collapsed": false
   },
   "outputs": [
    {
     "data": {
      "text/plain": [
       "<matplotlib.text.Text at 0x163340d0>"
      ]
     },
     "execution_count": 38,
     "metadata": {},
     "output_type": "execute_result"
    },
    {
     "data": {
      "image/png": "[encoded data removed]",
      "text/plain": [
       "<matplotlib.figure.Figure at 0x49174bb0>"
      ]
     },
     "metadata": {},
     "output_type": "display_data"
    }
   ],
   "source": [
    "fig, ax = plt.subplots(figsize=(15,10))\n",
    "rcParams['font.size'] = 20\n",
    "sns.violinplot(ax=ax, x='supermarket spend in a week', y='ID', hue='RETIRED', data=rls, split=True,\n",
    "               inner=\"quart\", palette={\"Y\": \"c\", \"N\": \"b\"})\n",
    "sns.despine(left=True)\n",
    "plt.title('Distribution of Interviewees for Supermarket Spend in a Week by RETIRED', alpha=0.75, fontsize=30)\n",
    "plt.ylabel('ID', alpha=0.75)\n",
    "plt.xlabel('Supermarket Spend in a Week', alpha=0.75)"
   ]
  },
  {
   "cell_type": "markdown",
   "metadata": {},
   "source": [
    "#### We can find that there is no obvious gap between retired people and non-retired people in 'supermarket spend in a week'."
   ]
  },
  {
   "cell_type": "markdown",
   "metadata": {
    "collapsed": true
   },
   "source": [
    "## Conclusion"
   ]
  },
  {
   "cell_type": "markdown",
   "metadata": {
    "collapsed": false
   },
   "source": [
    "#### The dataset from the real-world domain is really complex, so I just cleaned the data which I used in the analysis part. I tried to analyse the dataset from the perspective of a real estate developer, and found some good advices for them:\n",
    "#### 1. From 'Interests Analysis' I found that the rural protential consumers like MUSIC, EATOUT, READ, COOK, CINEMA and ENTERTAIN, and property developers should save money on GYM and CGAME in rural real estate products(including houses, townhouses and apartments).\n",
    "#### 2. From 'Occupation Analysis' I found that the most two respondents' occupation are PROF and RETIRED. The real estate developers should target them as the most protential consumers rather than the sudents' families, which is only around 5% in rural NZ.\n",
    "#### 3. From 'Attitudes Analysis' I found that rural people in NZ don't like risk in their investment. And most of them agree SPEC, Buy NZ Products and VOTEELEC.\n",
    "#### 4. From 'RETIRED Analysis' I found that the retired rural people's supermarket spend in a week are still in the same level with non-retired people, which means most retired people's financial conditions are still good enough to be protential consumers for property products."
   ]
  },
  {
   "cell_type": "code",
   "execution_count": null,
   "metadata": {
    "collapsed": true
   },
   "outputs": [],
   "source": []
  }
 ],
 "metadata": {
  "kernelspec": {
   "display_name": "Python 2",
   "language": "python",
   "name": "python2"
  },
  "language_info": {
   "codemirror_mode": {
    "name": "ipython",
    "version": 2
   },
   "file_extension": ".py",
   "mimetype": "text/x-python",
   "name": "python",
   "nbconvert_exporter": "python",
   "pygments_lexer": "ipython2",
   "version": "2.7.10"
  }
 },
 "nbformat": 4,
 "nbformat_minor": 0
}
